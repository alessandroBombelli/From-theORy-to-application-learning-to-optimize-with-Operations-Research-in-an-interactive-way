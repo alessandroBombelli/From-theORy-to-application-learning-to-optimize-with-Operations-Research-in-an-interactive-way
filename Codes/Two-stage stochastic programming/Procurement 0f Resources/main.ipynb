{
 "cells": [
  {
   "cell_type": "markdown",
   "id": "7c8f6de6",
   "metadata": {},
   "source": [
    "## Procurement of Resources under uncertain demand: a two-stage stochastic programming formulation"
   ]
  },
  {
   "cell_type": "markdown",
   "id": "ff021905",
   "metadata": {},
   "source": [
    "In this example, we showcase the code related to Example 14.1 from the book. In the example, we have a set of products $p \\in \\mathcal{P}$ where $\\mathcal{P}=\\left\\{1,2,3\\right\\}$. \n",
    "\n",
    "To produce one unit of each product, a different combination of resources $r \\in \\mathcal{R}$ where $\\mathcal{R}=\\left\\{1,2,3\\right\\}$ is needed. \n",
    "We define $Q_{rp}$ the quantity of resource $r$ needed to produce 1 unit of product $p$. We have $Q_{11}=3$, $Q_{12}=1$, $Q_{13}=4$, $Q_{21}=2$, $Q_{22}=2$, $Q_{23}=2$, $Q_{31}=4$, $Q_{32}=2$, and $Q_{33}=0$.\n",
    "\n",
    "Additionally, every unit of acquired resource costs $C_r$ monetary units.We have $C_1=3$, $C_2=2$, and $C_3=1$. In contrast, every unit of product generates a revenue equivalent to $R_p$. We have $R_1=25$, $R_2=20$, and $R_3=10$.\n",
    "\n",
    "Unfortunately, the producer does not know exactly the future demand for each product, while decisions on how much of each resource to acquire must be made now. Notwithstanding, they have forecast 3 potential scenarios $s \\in \\mathcal{S}$ where in each scenario $D_{ps}$ is the demand of product $p$ for the considered scenario $s$. Each scenario is estimated to occur with a probability $P_i$, with $P_1=0.5$, $P_2=0.4$, and $P_3=0.1$. In terms of demand, we have:\n",
    "\n",
    "- $s=1$: $D_{11}=40$, $D_{21}=30$, $D_{31}=10$ \n",
    "- $s=2$: $D_{12}=30$, $D_{22}=20$, $D_{32}=0$\n",
    "- $s=3$: $D_{13}=10$, $D_{23}=30$, $D_{33}=50$\n",
    "\n",
    "The producer needs to acquire resources now (**first stage**) and decide how much of each product to produce (**second stage**) when the actual demand is revealed, with the goal of **maximizing profit**. Different strategies are possible to achieve the goal. Here, we will be using 2 strategies:\n",
    "\n",
    "- **two-stage stochastic programming approach**: this approach maximizes the expected revenue value from the second stage considering each scenario with its defined probability\n",
    "- **``myopic\" deterministic approach**: the producer assumes the expected demand per product is the weighted average according the the 3 scenarios, hence removing the scenarios and dealing with a deterministic model. This model is defined *myopic* because nobody is guaranteeing the producer that the average demand values will be the real ones. For the sake of clarity, the 3 average values are $\\overline{D}_1=0.5 \\times 40 + 0.4 \\times 30 + 0.1 \\times 10 = 33$, $\\overline{D}_2=0.5 \\times 30 + 0.4 \\times 20 + 0.1 \\times 30 = 26$, and $\\overline{D}_3=0.5 \\times 10 + 0.4 \\times 0 + 0.1 \\times 50 = 10$\n",
    "\n",
    "We will be solving **5 instances**, namely:\n",
    "\n",
    "1. two-stage stochastic model\n",
    "2. ``myopic\" deterministic model\n",
    "3. deterministic model where the quantity of resources is fixed and given by instance 2., and the actual demand realization is the one associated with scenario $s=1$\n",
    "4. deterministic model where the quantity of resources is fixed and given by instance 2., and the actual demand realization is the one associated with scenario $s=2$\n",
    "5. deterministic model where the quantity of resources is fixed and given by instance 2., and the actual demand realization is the one associated with scenario $s=3$\n",
    "\n",
    "In instance 2., the producer is still deciding the optimal quantity of each resources to acquire in light of an expected demand that is the weighted average across the 3 scenarios. In instances 3., 4., and 5., we assume that the choice has already been made in instance 2., and the producer's only flexibility left is to produce the 3 products in the best way possible (profit-wise) given the fixed supply of resources.\n"
   ]
  },
  {
   "cell_type": "markdown",
   "id": "9a9014dd",
   "metadata": {},
   "source": [
    "### Two-stage stochastic model\n",
    "\n",
    "In this model, we use all the sets and parameters defined above. In addition, we define thw 2 sets of decision variables:\n",
    "\n",
    "- $x_r \\ \\forall r \\in \\mathcal{R}$ (continuous): units of resource $r$ acquired\n",
    "- $y_{ps} \\ \\forall p \\in \\mathcal{P}, s \\in \\mathcal{S}$ (continuous): units of product $p$ produced in scenario $s$\n",
    "\n",
    "Note that we assume that decision variable type are continuous (readers might argue that integer-valued decision variables might be more proper, but we stick with continuous in this example). In addition, we assume that every unit of every product that is produced is also sold and hence contributes positively to the profit. in the stochastic setting, we define the mathematical model as:\n",
    "\n",
    "$\\begin{align}\n",
    "\\max & -\\sum_{r \\in \\mathcal{R}}C_r x_r + \\sum_{s \\in \\mathcal{S}}P_s\\sum_{p \\in \\mathcal{P}} R_p y_{ps}  && \\label{eq:ex_tssp_1_obj}\n",
    "\\end{align}$\n",
    "\n",
    "s.t.:\n",
    "\n",
    "$\n",
    "\\begin{align}\n",
    "& \\sum_{p \\in \\mathcal{P}} Q_{rp}y_{ps} \\leq x_r&& \\forall r \\in \\mathcal{R}, s \\in \\mathcal{S}  \\label{eq:ex_tssp_2_C1}\\\\\n",
    "& x_r \\in \\mathbb{R}_0 && \\forall r \\in \\mathcal{R} \\label{eq:ex_tssp_2_C2}\\\\\n",
    "& y_{ps} \\leq D_{ps} && \\forall p \\in \\mathcal{P}, s \\in \\mathcal{S} \\label{eq:ex_tssp_2_C3}\n",
    "\\end{align}$\n",
    "\n",
    "where the objective aims a maximizing the expected profit considering the costs incurred into the first stage and the expected revenue from the second stage. The first constraint ensures that in every scenario every product is produced within the supply limit provided by decision variable $x_r$ for every resource $r \\in \\mathcal{R}$ acquired in the first stage, the second defines the continuous nature of the $x_r$, and the third one limits the number of units per product to be produced in each scenario to the associated $D_{ps}$ value. We proceed now to formulate and solve the model."
   ]
  },
  {
   "cell_type": "markdown",
   "id": "882e4d05",
   "metadata": {},
   "source": [
    "We start by importing the needed packages"
   ]
  },
  {
   "cell_type": "code",
   "execution_count": 2,
   "id": "99bac916",
   "metadata": {},
   "outputs": [],
   "source": [
    "import numpy as np\n",
    "import pandas as pd\n",
    "import os\n",
    "import networkx as nx\n",
    "import random\n",
    "import matplotlib as mp\n",
    "import matplotlib.pyplot as plt\n",
    "import matplotlib.ticker as mticker\n",
    "from matplotlib.axes._axes import _log as matplotlib_axes_logger\n",
    "matplotlib_axes_logger.setLevel('ERROR')\n",
    "from pyomo.environ import *"
   ]
  },
  {
   "cell_type": "markdown",
   "id": "d7d3a85c",
   "metadata": {},
   "source": [
    "We define the 3 sets $\\mathcal{P}$, $\\mathcal{R}$, and $\\mathcal{S}$ as dictionaries with all the parameters introduced above to be used later in the definition of the model in pyomo "
   ]
  },
  {
   "cell_type": "code",
   "execution_count": 3,
   "id": "312373e2",
   "metadata": {},
   "outputs": [],
   "source": [
    "########################\n",
    "### Stochastic model ###\n",
    "########################\n",
    "\n",
    "# Set of products\n",
    "P = {1:{1:3,2:2,3:4,'revenue':25},\n",
    "     2:{1:1,2:2,3:2,'revenue':20},\n",
    "     3:{1:4,2:2,3:0,'revenue':10}}\n",
    "\n",
    "# Set of resources\n",
    "R = {1:{1:3,2:1,3:4,'cost':3},\n",
    "     2:{1:2,2:2,3:2,'cost':2},\n",
    "     3:{1:4,2:2,3:0,'cost':1}}\n",
    "\n",
    "# Set of scenarios\n",
    "S = {1:{1:40,2:30,3:10,'prob':0.5},\n",
    "     2:{1:30,2:20,3:0,'prob':0.4},\n",
    "     3:{1:10,2:30,3:50,'prob':0.1}}"
   ]
  },
  {
   "cell_type": "markdown",
   "id": "30558412",
   "metadata": {},
   "source": [
    "We initialize the pyomo model and define the 3 sets"
   ]
  },
  {
   "cell_type": "code",
   "execution_count": 4,
   "id": "5e90c6e8",
   "metadata": {},
   "outputs": [],
   "source": [
    "# Define optimization model\n",
    "model = ConcreteModel()\n",
    "\n",
    "# Define sets\n",
    "model.Products     = Set(initialize=P.keys())\n",
    "model.Resources    = Set(initialize=R.keys())\n",
    "model.Scenarios    = Set(initialize=S.keys())"
   ]
  },
  {
   "cell_type": "markdown",
   "id": "d3b87712",
   "metadata": {},
   "source": [
    "We now define all the parameters"
   ]
  },
  {
   "cell_type": "code",
   "execution_count": 5,
   "id": "3c6606cc",
   "metadata": {},
   "outputs": [],
   "source": [
    "# Define parameters\n",
    "model.Q_rp = Param(model.Resources,model.Products, initialize=\n",
    "             {(r,p):v[p] for r,v in R.items() for p in P.keys()}, within=Any)\n",
    "model.R_p  = Param(model.Products, initialize={p:v['revenue'] for p,v in P.items()})\n",
    "model.C_r  = Param(model.Resources, initialize={r:v['cost'] for r,v in R.items()})\n",
    "model.D_ps = Param(model.Products,model.Scenarios, initialize=\n",
    "             {(p,s):v[p] for p in P.keys() for s,v in S.items()}, within=Any)\n",
    "model.P_s  = Param(model.Scenarios, initialize={s:v['prob'] for s,v in S.items()})   \n"
   ]
  },
  {
   "cell_type": "markdown",
   "id": "120b0fb0",
   "metadata": {},
   "source": [
    "and the 2 sets of decision variables"
   ]
  },
  {
   "cell_type": "code",
   "execution_count": 6,
   "id": "a79325f3",
   "metadata": {},
   "outputs": [],
   "source": [
    "# Define decision variables\n",
    "model.x = Var(model.Resources, within=NonNegativeReals)\n",
    "model.y = Var(model.Products,model.Scenarios, within=NonNegativeReals)"
   ]
  },
  {
   "cell_type": "markdown",
   "id": "02ef90a9",
   "metadata": {},
   "source": [
    "We define the objective as stated above"
   ]
  },
  {
   "cell_type": "code",
   "execution_count": 7,
   "id": "f13c92c5",
   "metadata": {},
   "outputs": [],
   "source": [
    "# Define objective function\n",
    "model.obj = Objective(expr=-sum(model.C_r[r]*model.x[r] for r in model.Resources)\n",
    "                      +sum(model.P_s[s]*(sum(model.R_p[p]*model.y[p,s] for p in model.Products)) \n",
    "                           for s in model.Scenarios), sense=maximize)"
   ]
  },
  {
   "cell_type": "markdown",
   "id": "01e1a149",
   "metadata": {},
   "source": [
    "We define the two sets of constraints. We do not need to explicitly enforce $x_r \\in \\mathbb{R}_0 \\ \\forall r \\in \\mathcal{R}$ as it is already accounted for in the definition of the decision variables"
   ]
  },
  {
   "cell_type": "code",
   "execution_count": 8,
   "id": "6f437299",
   "metadata": {},
   "outputs": [],
   "source": [
    "# Define constraints\n",
    "model.max_products_per_resource_scenario = ConstraintList()\n",
    "for s in model.Scenarios:\n",
    "    for r in model.Resources:\n",
    "        model.max_products_per_resource_scenario.add(\n",
    "                sum(model.Q_rp[r,p]*model.y[p,s] for p in model.Products)<=model.x[r])\n",
    "        \n",
    "model.max_products_demand_scenario = ConstraintList()\n",
    "for s in model.Scenarios:\n",
    "    for p in model.Products:\n",
    "        model.max_products_demand_scenario.add(model.y[p,s]<=model.D_ps[p,s])"
   ]
  },
  {
   "cell_type": "markdown",
   "id": "c2d7879b",
   "metadata": {},
   "source": [
    "Finally, we solve the model (here we use Gurobi as te solver. For the open-source variants, just modify the SolverFactory)"
   ]
  },
  {
   "cell_type": "code",
   "execution_count": 9,
   "id": "8b448a19",
   "metadata": {},
   "outputs": [
    {
     "data": {
      "text/plain": [
       "{'Problem': [{'Name': 'x13', 'Lower bound': 467.5, 'Upper bound': 467.5, 'Number of objectives': 1, 'Number of constraints': 19, 'Number of variables': 13, 'Number of binary variables': 0, 'Number of integer variables': 0, 'Number of continuous variables': 13, 'Number of nonzeros': 43, 'Sense': 'maximize'}], 'Solver': [{'Status': 'ok', 'Return code': '0', 'Message': 'Model was solved to optimality (subject to tolerances), and an optimal solution is available.', 'Termination condition': 'optimal', 'Termination message': 'Model was solved to optimality (subject to tolerances), and an optimal solution is available.', 'Wall time': '0.00515937805176', 'Error rc': 0, 'Time': 2.6482369899749756}], 'Solution': [OrderedDict([('number of solutions', 0), ('number of solutions displayed', 0)])]}"
      ]
     },
     "execution_count": 9,
     "metadata": {},
     "output_type": "execute_result"
    }
   ],
   "source": [
    "# Solve the problem\n",
    "solver = SolverFactory('gurobi')\n",
    "solver.solve(model) "
   ]
  },
  {
   "cell_type": "markdown",
   "id": "6fe20689",
   "metadata": {},
   "source": [
    "and output the main results"
   ]
  },
  {
   "cell_type": "code",
   "execution_count": 10,
   "id": "c001a046",
   "metadata": {},
   "outputs": [
    {
     "name": "stdout",
     "output_type": "stream",
     "text": [
      "Expected profit with stochastic solution: 467.5000000007501\n",
      "\n",
      "Resource 1: 110.0\n",
      "Resource 2: 113.333333333\n",
      "Resource 3: 166.666666667\n",
      "\n",
      "Scenario 1:\n",
      "Product 1: 26.6666666667\n",
      "Product 2: 30.0\n",
      "Product 3: 0.0\n",
      "\n",
      "Scenario 2:\n",
      "Product 1: 30.0\n",
      "Product 2: 20.0\n",
      "Product 3: 0.0\n",
      "\n",
      "Scenario 3:\n",
      "Product 1: 10.0\n",
      "Product 2: 30.0\n",
      "Product 3: 12.5\n",
      "\n"
     ]
    }
   ],
   "source": [
    "# Print the results\n",
    "print('Expected profit with stochastic solution:', model.obj())\n",
    "print('')\n",
    "\n",
    "for r in model.Resources:\n",
    "    print(f'Resource {r}: {model.x[(r)].value}') \n",
    "print('')\n",
    "    \n",
    "for s in model.Scenarios:\n",
    "    print('Scenario %i:'%(s))\n",
    "    for p in model.Products:\n",
    "        print(f'Product {p}: {model.y[(p,s)].value}') \n",
    "    print('')"
   ]
  },
  {
   "cell_type": "markdown",
   "id": "173e5034",
   "metadata": {},
   "source": [
    "We now solve the myopic deterministic model, which can be written as:\n",
    "\n",
    "$\\begin{align}\n",
    "\\max & -\\sum_{r \\in \\mathcal{R}}C_r x_r +\\sum_{p \\in \\mathcal{P}} R_p y_{p}  && \\label{eq:ex_tssp_1_obj}\n",
    "\\end{align}$\n",
    "\n",
    "s.t.:\n",
    "\n",
    "$\n",
    "\\begin{align}\n",
    "& \\sum_{p \\in \\mathcal{P}} Q_{rp}y_{p} \\leq x_r&& \\forall r \\in \\mathcal{R} \\label{eq:ex_tssp_2_C1}\\\\\n",
    "& x_r \\in \\mathbb{R}_0 && \\forall r \\in \\mathcal{R} \\label{eq:ex_tssp_2_C2}\\\\\n",
    "& y_{p} \\leq \\overline{D}_{p} && \\forall p \\in \\mathcal{P} \\label{eq:ex_tssp_2_C3}\n",
    "\\end{align}$\n"
   ]
  },
  {
   "cell_type": "markdown",
   "id": "ee70977f",
   "metadata": {},
   "source": [
    "Note that now the set of scenarios $\\mathcal{S}$ has disappeared. As a consequence, now decision variables $y$ only depend on index $p$, with $y_{p} \\ \\forall p \\in \\mathcal{P}$ defining the units of product $p$ produced and sold. The other difference is in the last constraint, where now the right-hand side if the weighted average demand of product $p$ considering the 3 scenarios from the stochastic case "
   ]
  },
  {
   "cell_type": "markdown",
   "id": "0f87b167",
   "metadata": {},
   "source": [
    "We directly report the full code, which follows the same logic as before"
   ]
  },
  {
   "cell_type": "code",
   "execution_count": 11,
   "id": "d0fd9b3c",
   "metadata": {},
   "outputs": [
    {
     "name": "stdout",
     "output_type": "stream",
     "text": [
      "Expected profit with deterministic solution: 550.0\n",
      "\n",
      "Resource 1: 125.0\n",
      "Resource 2: 118.0\n",
      "Resource 3: 184.0\n"
     ]
    }
   ],
   "source": [
    "###########################\n",
    "### Deterministic model ###    \n",
    "###########################\n",
    "\n",
    "# Average demand per product\n",
    "\n",
    "# Define optimization model\n",
    "model_det = ConcreteModel()\n",
    "\n",
    "# Define sets\n",
    "model_det.Products     = Set(initialize=P.keys())\n",
    "model_det.Resources    = Set(initialize=R.keys())\n",
    "\n",
    "# Define parameters\n",
    "model_det.Q_rp = Param(model_det.Resources,model_det.Products, initialize=\n",
    "             {(r,p):v[p] for r,v in R.items() for p in P.keys()}, within=Any)\n",
    "model_det.R_p  = Param(model_det.Products, initialize={p:v['revenue'] for p,v in P.items()})\n",
    "model_det.C_r  = Param(model_det.Resources, initialize={r:v['cost'] for r,v in R.items()})\n",
    "model_det.D_p  = Param(model_det.Products, initialize=\n",
    "             {p:sum(v['prob']*v[p] for _,v in S.items()) for p in P.keys()}, within=Any)\n",
    "\n",
    "# Define decision variables\n",
    "model_det.x = Var(model_det.Resources, within=NonNegativeReals)\n",
    "model_det.y = Var(model_det.Products, within=NonNegativeReals)\n",
    "\n",
    "# Define objective function\n",
    "model_det.obj = Objective(expr=-sum(model_det.C_r[r]*model_det.x[r] for r in model_det.Resources)\n",
    "                      +(sum(model_det.R_p[p]*model_det.y[p] for p in model_det.Products)) \n",
    "                           , sense=maximize)\n",
    "\n",
    "# Define constraints\n",
    "model_det.max_products_per_resource = ConstraintList()\n",
    "for r in model_det.Resources:\n",
    "    model_det.max_products_per_resource.add(\n",
    "            sum(model_det.Q_rp[r,p]*model_det.y[p] for p in model_det.Products)<=model_det.x[r])\n",
    "        \n",
    "model_det.max_products_demand = ConstraintList()\n",
    "for p in model_det.Products:\n",
    "    model_det.max_products_demand.add(model_det.y[p]<=model_det.D_p[p])\n",
    "\n",
    "# Solve the problem\n",
    "solver = SolverFactory('gurobi')\n",
    "solver.solve(model_det)  \n",
    "\n",
    "# Print the results\n",
    "print('Expected profit with deterministic solution:', model_det.obj())\n",
    "print('')\n",
    "for r in model.Resources:\n",
    "    print(f'Resource {r}: {model_det.x[(r)].value}')"
   ]
  },
  {
   "cell_type": "markdown",
   "id": "c4fd5dc8",
   "metadata": {},
   "source": [
    "Finally, we store the optimal values of the 3 $x_r$ variables to be used in the following models"
   ]
  },
  {
   "cell_type": "code",
   "execution_count": 12,
   "id": "9525559f",
   "metadata": {},
   "outputs": [],
   "source": [
    "# Storing the computed resource quantities from the deterministic model \n",
    "# to be used later in the three subsequent models where each scenario is\n",
    "# the one occurring in the \"second stage\"\n",
    "\n",
    "Q_r = {r:model_det.x[(r)].value for r in R.keys()} "
   ]
  },
  {
   "cell_type": "markdown",
   "id": "5a8d7334",
   "metadata": {},
   "source": [
    "We now solve instance 3, where the realized demand is the one from scenario $s=1$. We code the model as follows:"
   ]
  },
  {
   "cell_type": "code",
   "execution_count": 13,
   "id": "f04e376d",
   "metadata": {},
   "outputs": [],
   "source": [
    "############################################################\n",
    "### Deterministic model if demand is equal to scenario 1 ###\n",
    "############################################################\n",
    "\n",
    "# Define optimization model\n",
    "model_det_s1 = ConcreteModel()\n",
    "\n",
    "# Define sets\n",
    "model_det_s1.Products     = Set(initialize=P.keys())\n",
    "model_det_s1.Resources    = Set(initialize=R.keys())\n",
    "\n",
    "# Define parameters\n",
    "model_det_s1.Q_rp = Param(model_det_s1.Resources,model_det_s1.Products, initialize=\n",
    "             {(r,p):v[p] for r,v in R.items() for p in P.keys()}, within=Any)\n",
    "model_det_s1.R_p  = Param(model_det_s1.Products, initialize={p:v['revenue'] for p,v in P.items()})\n",
    "model_det_s1.C_r  = Param(model_det_s1.Resources, initialize={r:v['cost'] for r,v in R.items()})\n",
    "model_det_s1.D_p  = Param(model_det_s1.Products, initialize=\n",
    "             {p:S[1][p] for p in P.keys()}, within=Any)\n",
    "\n",
    "# Define decision variables\n",
    "model_det_s1.x = Var(model_det_s1.Resources, within=NonNegativeReals)\n",
    "model_det_s1.y = Var(model_det_s1.Products, within=NonNegativeReals)\n",
    "\n",
    "# Define objective function\n",
    "model_det_s1.obj = Objective(expr=-sum(model_det_s1.C_r[r]*model_det_s1.x[r] for r in model_det_s1.Resources)\n",
    "                      +(sum(model_det_s1.R_p[p]*model_det_s1.y[p] for p in model_det_s1.Products)) \n",
    "                           , sense=maximize)\n",
    "\n",
    "# Define constraints\n",
    "model_det_s1.max_products_per_resource = ConstraintList()\n",
    "for r in model_det_s1.Resources:\n",
    "    model_det_s1.max_products_per_resource.add(\n",
    "            sum(model_det_s1.Q_rp[r,p]*model_det_s1.y[p] for p in model_det_s1.Products)<=model_det_s1.x[r])\n",
    "        \n",
    "model_det_s1.max_products_demand = ConstraintList()\n",
    "for p in model_det_s1.Products:\n",
    "    model_det_s1.max_products_demand.add(model_det_s1.y[p]<=model_det_s1.D_p[p])\n",
    "    \n",
    "# Now we also force x decision variables to take the values we computed\n",
    "# using the deterministic model (hence, they become parameters)\n",
    "model_det_s1.force_x = ConstraintList()\n",
    "for r in model_det_s1.Resources:\n",
    "    model_det_s1.force_x.add(model_det_s1.x[r]==Q_r[r])"
   ]
  },
  {
   "cell_type": "markdown",
   "id": "89413998",
   "metadata": {},
   "source": [
    "Now in the definition of parameters model_det_s1.D_p we use the realized demand from scenario $s=1$. In addition, we added constraint set model_det_s1.force_x to assign the value computed from instance 2. to each $x_r$ (hence, they act as parameters in the following instances)."
   ]
  },
  {
   "cell_type": "markdown",
   "id": "2ea6a427",
   "metadata": {},
   "source": [
    "We now solve instance 3 and plot the main results"
   ]
  },
  {
   "cell_type": "code",
   "execution_count": 14,
   "id": "462b199c",
   "metadata": {},
   "outputs": [
    {
     "name": "stdout",
     "output_type": "stream",
     "text": [
      "Expected profit with deterministic solution and realized scenario 1: 550.0\n",
      "\n",
      "Product 1: 33.0\n",
      "Product 2: 26.0\n",
      "Product 3: 0.0\n",
      "\n"
     ]
    }
   ],
   "source": [
    "# Solve the problem\n",
    "solver = SolverFactory('gurobi')\n",
    "solver.solve(model_det_s1)  \n",
    "\n",
    "# Print the results\n",
    "print('Expected profit with deterministic solution and realized scenario 1:', model_det_s1.obj())\n",
    "print('')\n",
    "for p in model.Products:\n",
    "    print(f'Product {p}: {model_det_s1.y[(p)].value}')\n",
    "print('')"
   ]
  },
  {
   "cell_type": "markdown",
   "id": "411334ea",
   "metadata": {},
   "source": [
    "We now solve instance 4, where the only difference with respect to instance 3 is that the realized demand is from scenario $s=2$"
   ]
  },
  {
   "cell_type": "code",
   "execution_count": 15,
   "id": "d4639662",
   "metadata": {},
   "outputs": [
    {
     "name": "stdout",
     "output_type": "stream",
     "text": [
      "Expected profit with deterministic solution and realized scenario 2: 355.0\n",
      "\n",
      "Product 1: 30.0\n",
      "Product 2: 20.0\n",
      "Product 3: 0.0\n",
      "\n"
     ]
    }
   ],
   "source": [
    "############################################################\n",
    "### Deterministic model if demand is equal to scenario 2 ###\n",
    "############################################################\n",
    "\n",
    "# Define optimization model\n",
    "model_det_s2 = ConcreteModel()\n",
    "\n",
    "# Define sets\n",
    "model_det_s2.Products     = Set(initialize=P.keys())\n",
    "model_det_s2.Resources    = Set(initialize=R.keys())\n",
    "\n",
    "# Define parameters\n",
    "model_det_s2.Q_rp = Param(model_det_s2.Resources,model_det_s2.Products, initialize=\n",
    "             {(r,p):v[p] for r,v in R.items() for p in P.keys()}, within=Any)\n",
    "model_det_s2.R_p  = Param(model_det_s2.Products, initialize={p:v['revenue'] for p,v in P.items()})\n",
    "model_det_s2.C_r  = Param(model_det_s2.Resources, initialize={r:v['cost'] for r,v in R.items()})\n",
    "model_det_s2.D_p  = Param(model_det_s2.Products, initialize=\n",
    "             {p:S[2][p] for p in P.keys()}, within=Any)\n",
    "\n",
    "# Define decision variables\n",
    "model_det_s2.x = Var(model_det_s2.Resources, within=NonNegativeReals)\n",
    "model_det_s2.y = Var(model_det_s2.Products, within=NonNegativeReals)\n",
    "\n",
    "# Define objective function\n",
    "model_det_s2.obj = Objective(expr=-sum(model_det_s2.C_r[r]*model_det_s2.x[r] for r in model_det_s2.Resources)\n",
    "                      +(sum(model_det_s2.R_p[p]*model_det_s2.y[p] for p in model_det_s2.Products)) \n",
    "                           , sense=maximize)\n",
    "\n",
    "# Define constraints\n",
    "model_det_s2.max_products_per_resource = ConstraintList()\n",
    "for r in model_det_s2.Resources:\n",
    "    model_det_s2.max_products_per_resource.add(\n",
    "            sum(model_det_s2.Q_rp[r,p]*model_det_s2.y[p] for p in model_det_s2.Products)<=model_det_s2.x[r])\n",
    "        \n",
    "model_det_s2.max_products_demand = ConstraintList()\n",
    "for p in model_det_s2.Products:\n",
    "    model_det_s2.max_products_demand.add(model_det_s2.y[p]<=model_det_s2.D_p[p])\n",
    "    \n",
    "# Now we also force x decision variables to take the values we computed\n",
    "# using the deterministic model (hence, they become parameters)\n",
    "model_det_s2.force_x = ConstraintList()\n",
    "for r in model_det_s2.Resources:\n",
    "    model_det_s2.force_x.add(model_det_s2.x[r]==Q_r[r])\n",
    "\n",
    "# Solve the problem\n",
    "solver = SolverFactory('gurobi')\n",
    "solver.solve(model_det_s2)  \n",
    "\n",
    "# Print the results\n",
    "print('Expected profit with deterministic solution and realized scenario 2:', model_det_s2.obj())\n",
    "print('')\n",
    "for p in model.Products:\n",
    "    print(f'Product {p}: {model_det_s2.y[(p)].value}')\n",
    "print('')"
   ]
  },
  {
   "cell_type": "markdown",
   "id": "2d636dde",
   "metadata": {},
   "source": [
    "We finish with instance 5, where the realized demand is from scenario $s=3$"
   ]
  },
  {
   "cell_type": "code",
   "execution_count": 16,
   "id": "2ce2e8cc",
   "metadata": {},
   "outputs": [
    {
     "name": "stdout",
     "output_type": "stream",
     "text": [
      "Expected profit with deterministic solution and realized scenario 3: 217.5\n",
      "\n",
      "Product 1: 10.0\n",
      "Product 2: 30.0\n",
      "Product 3: 16.25\n",
      "\n"
     ]
    }
   ],
   "source": [
    "############################################################\n",
    "### Deterministic model if demand is equal to scenario 3 ###\n",
    "############################################################\n",
    "\n",
    "# Define optimization model\n",
    "model_det_s3 = ConcreteModel()\n",
    "\n",
    "# Define sets\n",
    "model_det_s3.Products     = Set(initialize=P.keys())\n",
    "model_det_s3.Resources    = Set(initialize=R.keys())\n",
    "\n",
    "# Define parameters\n",
    "model_det_s3.Q_rp = Param(model_det_s3.Resources,model_det_s3.Products, initialize=\n",
    "             {(r,p):v[p] for r,v in R.items() for p in P.keys()}, within=Any)\n",
    "model_det_s3.R_p  = Param(model_det_s3.Products, initialize={p:v['revenue'] for p,v in P.items()})\n",
    "model_det_s3.C_r  = Param(model_det_s3.Resources, initialize={r:v['cost'] for r,v in R.items()})\n",
    "model_det_s3.D_p  = Param(model_det_s3.Products, initialize=\n",
    "             {p:S[3][p] for p in P.keys()}, within=Any)\n",
    "\n",
    "# Define decision variables\n",
    "model_det_s3.x = Var(model_det_s3.Resources, within=NonNegativeReals)\n",
    "model_det_s3.y = Var(model_det_s3.Products, within=NonNegativeReals)\n",
    "\n",
    "# Define objective function\n",
    "model_det_s3.obj = Objective(expr=-sum(model_det_s3.C_r[r]*model_det_s3.x[r] for r in model_det_s3.Resources)\n",
    "                      +(sum(model_det_s3.R_p[p]*model_det_s3.y[p] for p in model_det_s3.Products)) \n",
    "                           , sense=maximize)\n",
    "\n",
    "# Define constraints\n",
    "model_det_s3.max_products_per_resource = ConstraintList()\n",
    "for r in model_det_s3.Resources:\n",
    "    model_det_s3.max_products_per_resource.add(\n",
    "            sum(model_det_s3.Q_rp[r,p]*model_det_s3.y[p] for p in model_det_s3.Products)<=model_det_s3.x[r])\n",
    "        \n",
    "model_det_s3.max_products_demand = ConstraintList()\n",
    "for p in model_det_s3.Products:\n",
    "    model_det_s3.max_products_demand.add(model_det_s3.y[p]<=model_det_s3.D_p[p])\n",
    "    \n",
    "# Now we also force x decision variables to take the values we computed\n",
    "# using the deterministic model (hence, they become parameters)\n",
    "model_det_s3.force_x = ConstraintList()\n",
    "for r in model_det_s3.Resources:\n",
    "    model_det_s3.force_x.add(model_det_s3.x[r]==Q_r[r])\n",
    "\n",
    "# Solve the problem\n",
    "solver = SolverFactory('gurobi')\n",
    "solver.solve(model_det_s3)  \n",
    "\n",
    "# Print the results\n",
    "print('Expected profit with deterministic solution and realized scenario 3:', model_det_s3.obj())\n",
    "print('')\n",
    "for p in model.Products:\n",
    "    print(f'Product {p}: {model_det_s3.y[(p)].value}')\n",
    "print('')"
   ]
  },
  {
   "cell_type": "markdown",
   "id": "5ce4f5ab",
   "metadata": {},
   "source": [
    "We now provide two important Key Performance Indicators (KPIs), namely the Expected Value of Perfect Information (EVPI) and the Value of the Stochastic Solution (VSS). The EVPI defines the increase (for a maximization problem) in the objective if we were guaranteed the revealed demand is the weighted average of the 3 scenarios. We compute the EVPI as the difference between the objective value from instance 2 and instance 1. The value is computed below:"
   ]
  },
  {
   "cell_type": "code",
   "execution_count": 17,
   "id": "80e2df17",
   "metadata": {},
   "outputs": [
    {
     "name": "stdout",
     "output_type": "stream",
     "text": [
      "\n",
      "The EVPI value is 82\n",
      "\n"
     ]
    }
   ],
   "source": [
    "EVPI = model_det.obj()-model.obj()\n",
    "print('')\n",
    "print('The EVPI value is %i'%(EVPI))\n",
    "print('')"
   ]
  },
  {
   "cell_type": "markdown",
   "id": "d06b0af7",
   "metadata": {},
   "source": [
    "Conversely, the VSS is computed as the difference between the objective value of instance 1 (where the model accounts for stochasticity) and the average of the objectives of instances 3, 4, and 5. In fact, in instances 3,4, and 5 we use a level of resources that was computed assuming the average demand is the expected one, while in each instance the demand from scenarios 1, 2, and 3 (respectively) appears. Hence, we solve three deterministic problems and compute the weighted average. We compute the VSS as shown below:"
   ]
  },
  {
   "cell_type": "code",
   "execution_count": 21,
   "id": "1ef79d49",
   "metadata": {},
   "outputs": [
    {
     "name": "stdout",
     "output_type": "stream",
     "text": [
      "\n",
      "The VSS value is 28\n",
      "\n"
     ]
    }
   ],
   "source": [
    "VSS =  model.obj()-(S[1]['prob']*model_det_s1.obj()+S[2]['prob']*model_det_s2.obj()+S[3]['prob']*model_det_s3.obj())\n",
    "print('')\n",
    "print('The VSS value is %i'%(VSS))\n",
    "print('')"
   ]
  },
  {
   "cell_type": "code",
   "execution_count": null,
   "id": "af2f828c",
   "metadata": {},
   "outputs": [],
   "source": []
  }
 ],
 "metadata": {
  "kernelspec": {
   "display_name": "Python 3 (Spyder)",
   "language": "python3",
   "name": "python3"
  },
  "language_info": {
   "codemirror_mode": {
    "name": "ipython",
    "version": 3
   },
   "file_extension": ".py",
   "mimetype": "text/x-python",
   "name": "python",
   "nbconvert_exporter": "python",
   "pygments_lexer": "ipython3",
   "version": "3.8.5"
  }
 },
 "nbformat": 4,
 "nbformat_minor": 5
}
