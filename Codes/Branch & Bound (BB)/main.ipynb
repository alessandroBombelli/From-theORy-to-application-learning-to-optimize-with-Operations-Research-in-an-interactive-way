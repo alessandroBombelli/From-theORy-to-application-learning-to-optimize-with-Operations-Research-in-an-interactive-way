{
 "cells": [
  {
   "cell_type": "markdown",
   "id": "23f3340f",
   "metadata": {},
   "source": [
    "# Build your own pizza MILP\n"
   ]
  },
  {
   "cell_type": "markdown",
   "id": "508c732d",
   "metadata": {},
   "source": [
    "In this notebook, we show the code behind the B\\&B process explained in the .pdf tutorial. To recap we are going out for dinner with our friends in a pizzeria that allows customers to build their own pizza. we want to build our own pizza, starting with a pizza margherita that costs 6€. Our budget is 13€. We are given the menu with the list of potential toppings and prices as given below\n",
    "\n",
    "![image info](./toppings.png)\n",
    "\n",
    "That defines our set of toppings $\\mathcal{T}$, with 12 elements ranging from 1=buffalo mozzarella to 12=bell peppers (see blue numbers in the figure below). In red, we see the satisfaction value that adding such topping generates instead\n",
    "\n",
    "![image info](./toppings_2.png)\n",
    "\n"
   ]
  },
  {
   "cell_type": "markdown",
   "id": "8f135bd1",
   "metadata": {},
   "source": [
    "We can now import the needed packages first"
   ]
  },
  {
   "cell_type": "code",
   "execution_count": null,
   "id": "09e334de",
   "metadata": {},
   "outputs": [],
   "source": [
    "import numpy as np\n",
    "import os\n",
    "from gurobipy import Model,GRB,LinExpr\n",
    "from copy import deepcopy"
   ]
  },
  {
   "cell_type": "markdown",
   "id": "94e1b253",
   "metadata": {},
   "source": [
    "Now we can define our inputs. We define the set of toppings with the index as the key, and then the full name, price, and satisfaction value"
   ]
  },
  {
   "cell_type": "code",
   "execution_count": 2,
   "id": "98672d1c",
   "metadata": {},
   "outputs": [],
   "source": [
    "T_names = [\"Buffalo mozzarella\",\"Gorgonzola\",\"Ricotta\",\"Burrata\",\"Parma ham\",\"Pancetta\",\n",
    "          \"Salame\",\"Nduja\",\"Zucchini\",\"Fried aubergine\",\"Cherry tomatoes\",\"Bell peppers\"]\n",
    "C       = [2,1.5,1,3,3,2,2,0.5,1,2,0.5,1.5]\n",
    "S       = [5,3.1,4.2,4.7,7.2,4.2,8.3,4.8,3.5,5.2,3.7,4.1]\n",
    "Budget  = 7\n",
    "\n",
    "T = {k+1:[T_names[k],C[k],S[k]] for k,_ in enumerate(C)}"
   ]
  },
  {
   "cell_type": "code",
   "execution_count": 3,
   "id": "e86c0162",
   "metadata": {},
   "outputs": [
    {
     "data": {
      "text/plain": [
       "{1: ['Buffalo mozzarella', 2, 5],\n",
       " 2: ['Gorgonzola', 1.5, 3.1],\n",
       " 3: ['Ricotta', 1, 4.2],\n",
       " 4: ['Burrata', 3, 4.7],\n",
       " 5: ['Parma ham', 3, 7.2],\n",
       " 6: ['Pancetta', 2, 4.2],\n",
       " 7: ['Salame', 2, 8.3],\n",
       " 8: ['Nduja', 0.5, 4.8],\n",
       " 9: ['Zucchini', 1, 3.5],\n",
       " 10: ['Fried aubergine', 2, 5.2],\n",
       " 11: ['Cherry tomatoes', 0.5, 3.7],\n",
       " 12: ['Bell peppers', 1.5, 4.1]}"
      ]
     },
     "execution_count": 3,
     "metadata": {},
     "output_type": "execute_result"
    }
   ],
   "source": [
    "T"
   ]
  },
  {
   "cell_type": "markdown",
   "id": "a59ca48f",
   "metadata": {},
   "source": [
    "We now manually build the B&B solution tree for this problem. We start with the root node. Note that all the decision variables, which are binary in practice, are relaxed to be continuous"
   ]
  },
  {
   "cell_type": "code",
   "execution_count": 4,
   "id": "fe612288",
   "metadata": {},
   "outputs": [
    {
     "name": "stdout",
     "output_type": "stream",
     "text": [
      "Academic license - for non-commercial use only - expires 2024-08-03\n",
      "Using license file C:\\Users\\abombelli\\gurobi.lic\n",
      "Creating decision variables\n",
      "Creating constraints\n",
      "Creating objective function\n",
      "Changed value of parameter MIPGap to 0.001\n",
      "   Prev: 0.0001  Min: 0.0  Max: inf  Default: 0.0001\n",
      "Changed value of parameter TimeLimit to 7200.0\n",
      "   Prev: inf  Min: 0.0  Max: inf  Default: inf\n",
      "Gurobi Optimizer version 9.1.1 build v9.1.1rc0 (win64)\n",
      "Thread count: 4 physical cores, 8 logical processors, using up to 8 threads\n",
      "Optimize a model with 1 rows, 12 columns and 12 nonzeros\n",
      "Model fingerprint: 0xfd3f5062\n",
      "Coefficient statistics:\n",
      "  Matrix range     [5e-01, 3e+00]\n",
      "  Objective range  [3e+00, 8e+00]\n",
      "  Bounds range     [1e+00, 1e+00]\n",
      "  RHS range        [7e+00, 7e+00]\n",
      "Presolve time: 0.00s\n",
      "Presolved: 1 rows, 12 columns, 12 nonzeros\n",
      "\n",
      "Iteration    Objective       Primal Inf.    Dual Inf.      Time\n",
      "       0    6.7200000e+01   1.625000e+00   0.000000e+00      0s\n",
      "       1    2.9900000e+01   0.000000e+00   0.000000e+00      0s\n",
      "\n",
      "Solved in 1 iterations and 0.01 seconds\n",
      "Optimal objective  2.990000000e+01\n"
     ]
    },
    {
     "data": {
      "text/plain": [
       "[['x_3', 1.0],\n",
       " ['x_7', 1.0],\n",
       " ['x_8', 1.0],\n",
       " ['x_9', 1.0],\n",
       " ['x_10', 0.25],\n",
       " ['x_11', 1.0],\n",
       " ['x_12', 1.0]]"
      ]
     },
     "execution_count": 4,
     "metadata": {},
     "output_type": "execute_result"
    }
   ],
   "source": [
    "# Setup model\n",
    "root_node_model = Model()\n",
    "\n",
    "print('Creating decision variables')\n",
    "x = {}\n",
    "\n",
    "for t,_ in T.items():\n",
    "    # Note: this is the root node, hence all decision variables are relaxed\n",
    "    # to be continuous\n",
    "    x[t] = root_node_model.addVar(lb=0, ub=1, vtype=GRB.CONTINUOUS,name=\"x_%s\"%(t))\n",
    "    \n",
    "print('Creating constraints')\n",
    "lhs = LinExpr()\n",
    "for t,_ in T.items():\n",
    "    lhs += T[t][1]*x[t]\n",
    "root_node_model.addLConstr(lhs=lhs, sense=GRB.LESS_EQUAL, rhs=Budget,\n",
    "                    name='Budget')\n",
    "\n",
    "print('Creating objective function')\n",
    "obj = LinExpr()\n",
    "for t,_ in T.items():\n",
    "    obj += T[t][2]*x[t]\n",
    "\n",
    "\n",
    "root_node_model.setObjective(obj,GRB.MAXIMIZE)\n",
    "root_node_model.update()  \n",
    "  \n",
    "\n",
    "# Solve\n",
    "root_node_model.setParam('MIPGap',0.001)\n",
    "root_node_model.setParam('TimeLimit',2*3600) # seconds\n",
    "root_node_model.optimize()\n",
    "\n",
    "\n",
    "solution = []\n",
    "\n",
    "# Retrieve variable names and values\n",
    "for v in root_node_model.getVars():\n",
    "    solution.append([v.varName,v.x])\n",
    "    \n",
    "# Retrieve active routing variables\n",
    "active_variables = []\n",
    "for i in range(0,len(solution)):\n",
    "    if solution[i][1] >= 0.01:\n",
    "        active_variables.append([solution[i][0],solution[i][1]])\n",
    "        \n",
    "active_variables"
   ]
  },
  {
   "cell_type": "markdown",
   "id": "9527ce01",
   "metadata": {},
   "source": [
    "We notice that decision variable $x_9$, i.e., zucchini, is fractional. The optimal solution $J=30$ is hence the first best bound $\\mathbb{B}\\mathbb{B}$ of this problem. We separate on $x_9$, forcing its value to be $x_9=0$ in node 1 and $x_9=1$ in node 2. We can use the property discussed in the tutorial that every child node is a copy of the parent node, plus the additional branching constraint "
   ]
  },
  {
   "cell_type": "code",
   "execution_count": 12,
   "id": "532942f3",
   "metadata": {},
   "outputs": [
    {
     "name": "stdout",
     "output_type": "stream",
     "text": [
      "Gurobi Optimizer version 9.1.1 build v9.1.1rc0 (win64)\n",
      "Thread count: 4 physical cores, 8 logical processors, using up to 8 threads\n",
      "Optimize a model with 2 rows, 12 columns and 13 nonzeros\n",
      "Model fingerprint: 0xf9d0c7ee\n",
      "Coefficient statistics:\n",
      "  Matrix range     [5e-01, 3e+00]\n",
      "  Objective range  [3e+00, 8e+00]\n",
      "  Bounds range     [1e+00, 1e+00]\n",
      "  RHS range        [7e+00, 7e+00]\n",
      "Presolve removed 1 rows and 5 columns\n",
      "Presolve time: 0.00s\n",
      "Presolved: 1 rows, 7 columns, 7 nonzeros\n",
      "\n",
      "Iteration    Objective       Primal Inf.    Dual Inf.      Time\n",
      "       0    6.7200000e+01   3.250000e+00   0.000000e+00      0s\n",
      "       1    2.9850000e+01   0.000000e+00   0.000000e+00      0s\n",
      "\n",
      "Solved in 1 iterations and 0.01 seconds\n",
      "Optimal objective  2.985000000e+01\n"
     ]
    }
   ],
   "source": [
    "node_1_model = root_node_model.copy()\n",
    "lhs = LinExpr()\n",
    "lhs += x[10]\n",
    "node_1_model.addLConstr(lhs=lhs, sense=GRB.EQUAL, rhs=0,\n",
    "                    name=\"Branching_constraint_node_1\")\n",
    "\n",
    "node_1_model.update()\n",
    "node_1_model.optimize()\n",
    "\n",
    "solution = []\n",
    "\n",
    "# Retrieve variable names and values\n",
    "for v in node_1_model.getVars():\n",
    "    solution.append([v.varName,v.x])\n",
    "\n",
    "# Retrieve active routing variables\n",
    "active_variables = []\n",
    "for i in range(0,len(solution)):\n",
    "    if solution[i][1] >= 0.01:\n",
    "        active_variables.append([solution[i][0],solution[i][1]])"
   ]
  },
  {
   "cell_type": "code",
   "execution_count": 13,
   "id": "34624775",
   "metadata": {},
   "outputs": [
    {
     "data": {
      "text/plain": [
       "[['x_1', 0.25],\n",
       " ['x_3', 1.0],\n",
       " ['x_7', 1.0],\n",
       " ['x_8', 1.0],\n",
       " ['x_9', 1.0],\n",
       " ['x_11', 1.0],\n",
       " ['x_12', 1.0]]"
      ]
     },
     "execution_count": 13,
     "metadata": {},
     "output_type": "execute_result"
    }
   ],
   "source": [
    "active_variables"
   ]
  },
  {
   "cell_type": "code",
   "execution_count": 14,
   "id": "0bca2e7a",
   "metadata": {},
   "outputs": [
    {
     "name": "stdout",
     "output_type": "stream",
     "text": [
      "Gurobi Optimizer version 9.1.1 build v9.1.1rc0 (win64)\n",
      "Thread count: 4 physical cores, 8 logical processors, using up to 8 threads\n",
      "Optimize a model with 2 rows, 12 columns and 13 nonzeros\n",
      "Model fingerprint: 0x7e8c47e8\n",
      "Coefficient statistics:\n",
      "  Matrix range     [5e-01, 3e+00]\n",
      "  Objective range  [3e+00, 8e+00]\n",
      "  Bounds range     [1e+00, 1e+00]\n",
      "  RHS range        [1e+00, 7e+00]\n",
      "Presolve removed 1 rows and 5 columns\n",
      "Presolve time: 0.00s\n",
      "Presolved: 1 rows, 7 columns, 7 nonzeros\n",
      "\n",
      "Iteration    Objective       Primal Inf.    Dual Inf.      Time\n",
      "       0    5.3200000e+01   2.250000e+00   0.000000e+00      0s\n",
      "       1    2.9700000e+01   0.000000e+00   0.000000e+00      0s\n",
      "\n",
      "Solved in 1 iterations and 0.01 seconds\n",
      "Optimal objective  2.970000000e+01\n"
     ]
    }
   ],
   "source": [
    "node_2_model = root_node_model.copy()\n",
    "lhs = LinExpr()\n",
    "lhs += x[10]\n",
    "node_2_model.addLConstr(lhs=lhs, sense=GRB.EQUAL, rhs=1,\n",
    "                    name=\"Branching_constraint_node_1\")\n",
    "\n",
    "node_2_model.update()\n",
    "node_2_model.optimize()\n",
    "\n",
    "solution = []\n",
    "\n",
    "# Retrieve variable names and values\n",
    "for v in node_2_model.getVars():\n",
    "    solution.append([v.varName,v.x])\n",
    "\n",
    "# Retrieve active routing variables\n",
    "active_variables = []\n",
    "for i in range(0,len(solution)):\n",
    "    if solution[i][1] >= 0.01:\n",
    "        active_variables.append([solution[i][0],solution[i][1]])"
   ]
  },
  {
   "cell_type": "code",
   "execution_count": 15,
   "id": "b13b055d",
   "metadata": {},
   "outputs": [
    {
     "data": {
      "text/plain": [
       "[['x_3', 1.0],\n",
       " ['x_7', 1.0],\n",
       " ['x_8', 1.0],\n",
       " ['x_9', 1.0],\n",
       " ['x_10', 1.0],\n",
       " ['x_11', 1.0]]"
      ]
     },
     "execution_count": 15,
     "metadata": {},
     "output_type": "execute_result"
    }
   ],
   "source": [
    "active_variables"
   ]
  },
  {
   "cell_type": "markdown",
   "id": "76bfce74",
   "metadata": {},
   "source": [
    "We notice that node 1 still features a fractional solution. On the other hand, node 2 features our first best incumbent $\\mathbb{B}\\mathbb{I}=29.70$ because all decision variables are non-fractional. Because the root node is now dominated, the new best bound is given by node 1, i.e., $\\mathbb{B}\\mathbb{B}=29.85$ Note that, apart from $x_{10}$, all other decision variables are still relaxed to be continuous, but they take all non-fractional (1) values in the optimal solution. Our next step is to branch on node 1. The only fractional decision variable is $x_1$, hence there is no ambiguity and we will separate on $x_1$. We use the same strategy of creating a copy of the parent node (node 1, in this case) and of adding the ad-hoc branching constraint to fully define the child node"
   ]
  },
  {
   "cell_type": "code",
   "execution_count": 18,
   "id": "55cc850c",
   "metadata": {},
   "outputs": [
    {
     "name": "stdout",
     "output_type": "stream",
     "text": [
      "Gurobi Optimizer version 9.1.1 build v9.1.1rc0 (win64)\n",
      "Thread count: 4 physical cores, 8 logical processors, using up to 8 threads\n",
      "Optimize a model with 3 rows, 12 columns and 14 nonzeros\n",
      "Model fingerprint: 0xaccdb7a9\n",
      "Coefficient statistics:\n",
      "  Matrix range     [5e-01, 3e+00]\n",
      "  Objective range  [3e+00, 8e+00]\n",
      "  Bounds range     [1e+00, 1e+00]\n",
      "  RHS range        [7e+00, 7e+00]\n",
      "Presolve removed 2 rows and 5 columns\n",
      "Presolve time: 0.00s\n",
      "Presolved: 1 rows, 7 columns, 7 nonzeros\n",
      "\n",
      "Iteration    Objective       Primal Inf.    Dual Inf.      Time\n",
      "       0    6.7200000e+01   1.625000e+00   0.000000e+00      0s\n",
      "       1    2.9800000e+01   0.000000e+00   0.000000e+00      0s\n",
      "\n",
      "Solved in 1 iterations and 0.01 seconds\n",
      "Optimal objective  2.980000000e+01\n"
     ]
    }
   ],
   "source": [
    "node_3_model = node_1_model.copy()\n",
    "lhs = LinExpr()\n",
    "lhs += x[1]\n",
    "node_3_model.addLConstr(lhs=lhs, sense=GRB.EQUAL, rhs=0,\n",
    "                    name=\"Branching_constraint_node_3\")\n",
    "\n",
    "node_3_model.update()\n",
    "node_3_model.optimize()\n",
    "\n",
    "solution = []\n",
    "\n",
    "# Retrieve variable names and values\n",
    "for v in node_3_model.getVars():\n",
    "    solution.append([v.varName,v.x])\n",
    "\n",
    "# Retrieve active routing variables\n",
    "active_variables = []\n",
    "for i in range(0,len(solution)):\n",
    "    if solution[i][1] >= 0.01:\n",
    "        active_variables.append([solution[i][0],solution[i][1]])"
   ]
  },
  {
   "cell_type": "code",
   "execution_count": 19,
   "id": "6c92ba49",
   "metadata": {},
   "outputs": [
    {
     "data": {
      "text/plain": [
       "[['x_3', 1.0],\n",
       " ['x_5', 0.16666666666666666],\n",
       " ['x_7', 1.0],\n",
       " ['x_8', 1.0],\n",
       " ['x_9', 1.0],\n",
       " ['x_11', 1.0],\n",
       " ['x_12', 1.0]]"
      ]
     },
     "execution_count": 19,
     "metadata": {},
     "output_type": "execute_result"
    }
   ],
   "source": [
    "active_variables"
   ]
  },
  {
   "cell_type": "code",
   "execution_count": 20,
   "id": "05cc45f8",
   "metadata": {},
   "outputs": [
    {
     "name": "stdout",
     "output_type": "stream",
     "text": [
      "Gurobi Optimizer version 9.1.1 build v9.1.1rc0 (win64)\n",
      "Thread count: 4 physical cores, 8 logical processors, using up to 8 threads\n",
      "Optimize a model with 3 rows, 12 columns and 14 nonzeros\n",
      "Model fingerprint: 0xd6331df8\n",
      "Coefficient statistics:\n",
      "  Matrix range     [5e-01, 3e+00]\n",
      "  Objective range  [3e+00, 8e+00]\n",
      "  Bounds range     [1e+00, 1e+00]\n",
      "  RHS range        [1e+00, 7e+00]\n",
      "Presolve removed 2 rows and 5 columns\n",
      "Presolve time: 0.01s\n",
      "Presolved: 1 rows, 7 columns, 7 nonzeros\n",
      "\n",
      "Iteration    Objective       Primal Inf.    Dual Inf.      Time\n",
      "       0    5.3000000e+01   1.125000e+00   0.000000e+00      0s\n",
      "       1    2.9500000e+01   0.000000e+00   0.000000e+00      0s\n",
      "\n",
      "Solved in 1 iterations and 0.01 seconds\n",
      "Optimal objective  2.950000000e+01\n"
     ]
    }
   ],
   "source": [
    "node_4_model = node_1_model.copy()\n",
    "lhs = LinExpr()\n",
    "lhs += x[1]\n",
    "node_4_model.addLConstr(lhs=lhs, sense=GRB.EQUAL, rhs=1,\n",
    "                    name=\"Branching_constraint_node_4\")\n",
    "\n",
    "node_4_model.update()\n",
    "node_4_model.optimize()\n",
    "\n",
    "solution = []\n",
    "\n",
    "# Retrieve variable names and values\n",
    "for v in node_4_model.getVars():\n",
    "    solution.append([v.varName,v.x])\n",
    "\n",
    "# Retrieve active routing variables\n",
    "active_variables = []\n",
    "for i in range(0,len(solution)):\n",
    "    if solution[i][1] >= 0.01:\n",
    "        active_variables.append([solution[i][0],solution[i][1]])"
   ]
  },
  {
   "cell_type": "code",
   "execution_count": 21,
   "id": "d464c33d",
   "metadata": {},
   "outputs": [
    {
     "data": {
      "text/plain": [
       "[['x_1', 1.0],\n",
       " ['x_3', 1.0],\n",
       " ['x_7', 1.0],\n",
       " ['x_8', 1.0],\n",
       " ['x_9', 1.0],\n",
       " ['x_11', 1.0]]"
      ]
     },
     "execution_count": 21,
     "metadata": {},
     "output_type": "execute_result"
    }
   ],
   "source": [
    "active_variables"
   ]
  },
  {
   "cell_type": "markdown",
   "id": "56b1874c",
   "metadata": {},
   "source": [
    "We notice that node 3 still features a fractional solution. On the other hand, node 4 features a non-fractional solution where $J=29.50$. Because $J<\\mathbb{B}\\mathbb{B}$, this solution is dominated by the current best incumbent. Because node 1 is not dominated, the new best bound is $\\mathbb{B}\\mathbb{B}=29.80$ Our next step is to branch on node 3 and separate the only fractional decision variable $x_5$ in a similar fashion to what done above"
   ]
  },
  {
   "cell_type": "code",
   "execution_count": 22,
   "id": "fee8a9fc",
   "metadata": {},
   "outputs": [
    {
     "name": "stdout",
     "output_type": "stream",
     "text": [
      "Gurobi Optimizer version 9.1.1 build v9.1.1rc0 (win64)\n",
      "Thread count: 4 physical cores, 8 logical processors, using up to 8 threads\n",
      "Optimize a model with 4 rows, 12 columns and 15 nonzeros\n",
      "Model fingerprint: 0x91b4771f\n",
      "Coefficient statistics:\n",
      "  Matrix range     [5e-01, 3e+00]\n",
      "  Objective range  [3e+00, 8e+00]\n",
      "  Bounds range     [1e+00, 1e+00]\n",
      "  RHS range        [7e+00, 7e+00]\n",
      "Presolve removed 3 rows and 5 columns\n",
      "Presolve time: 0.01s\n",
      "Presolved: 1 rows, 7 columns, 7 nonzeros\n",
      "\n",
      "Iteration    Objective       Primal Inf.    Dual Inf.      Time\n",
      "       0    6.7200000e+01   3.250000e+00   0.000000e+00      0s\n",
      "       1    2.9650000e+01   0.000000e+00   0.000000e+00      0s\n",
      "\n",
      "Solved in 1 iterations and 0.01 seconds\n",
      "Optimal objective  2.965000000e+01\n"
     ]
    }
   ],
   "source": [
    "node_5_model = node_3_model.copy()\n",
    "lhs = LinExpr()\n",
    "lhs += x[5]\n",
    "node_5_model.addLConstr(lhs=lhs, sense=GRB.EQUAL, rhs=0,\n",
    "                    name=\"Branching_constraint_node_5\")\n",
    "\n",
    "node_5_model.update()\n",
    "node_5_model.optimize()\n",
    "\n",
    "solution = []\n",
    "\n",
    "# Retrieve variable names and values\n",
    "for v in node_5_model.getVars():\n",
    "    solution.append([v.varName,v.x])\n",
    "\n",
    "# Retrieve active routing variables\n",
    "active_variables = []\n",
    "for i in range(0,len(solution)):\n",
    "    if solution[i][1] >= 0.01:\n",
    "        active_variables.append([solution[i][0],solution[i][1]])"
   ]
  },
  {
   "cell_type": "code",
   "execution_count": 23,
   "id": "65cd6f36",
   "metadata": {},
   "outputs": [
    {
     "data": {
      "text/plain": [
       "[['x_3', 1.0],\n",
       " ['x_6', 0.25],\n",
       " ['x_7', 1.0],\n",
       " ['x_8', 1.0],\n",
       " ['x_9', 1.0],\n",
       " ['x_11', 1.0],\n",
       " ['x_12', 1.0]]"
      ]
     },
     "execution_count": 23,
     "metadata": {},
     "output_type": "execute_result"
    }
   ],
   "source": [
    "active_variables"
   ]
  },
  {
   "cell_type": "code",
   "execution_count": 24,
   "id": "0c5e822a",
   "metadata": {},
   "outputs": [
    {
     "name": "stdout",
     "output_type": "stream",
     "text": [
      "Gurobi Optimizer version 9.1.1 build v9.1.1rc0 (win64)\n",
      "Thread count: 4 physical cores, 8 logical processors, using up to 8 threads\n",
      "Optimize a model with 4 rows, 12 columns and 15 nonzeros\n",
      "Model fingerprint: 0x85f67541\n",
      "Coefficient statistics:\n",
      "  Matrix range     [5e-01, 3e+00]\n",
      "  Objective range  [3e+00, 8e+00]\n",
      "  Bounds range     [1e+00, 1e+00]\n",
      "  RHS range        [1e+00, 7e+00]\n",
      "Presolve removed 3 rows and 5 columns\n",
      "Presolve time: 0.01s\n",
      "Presolved: 1 rows, 7 columns, 7 nonzeros\n",
      "\n",
      "Iteration    Objective       Primal Inf.    Dual Inf.      Time\n",
      "       0    4.5600000e+01   1.750000e+00   0.000000e+00      0s\n",
      "       1    2.8200000e+01   0.000000e+00   0.000000e+00      0s\n",
      "\n",
      "Solved in 1 iterations and 0.01 seconds\n",
      "Optimal objective  2.820000000e+01\n"
     ]
    }
   ],
   "source": [
    "node_6_model = node_3_model.copy()\n",
    "lhs = LinExpr()\n",
    "lhs += x[5]\n",
    "node_6_model.addLConstr(lhs=lhs, sense=GRB.EQUAL, rhs=1,\n",
    "                    name=\"Branching_constraint_node_6\")\n",
    "\n",
    "node_6_model.update()\n",
    "node_6_model.optimize()\n",
    "\n",
    "solution = []\n",
    "\n",
    "# Retrieve variable names and values\n",
    "for v in node_6_model.getVars():\n",
    "    solution.append([v.varName,v.x])\n",
    "\n",
    "# Retrieve active routing variables\n",
    "active_variables = []\n",
    "for i in range(0,len(solution)):\n",
    "    if solution[i][1] >= 0.01:\n",
    "        active_variables.append([solution[i][0],solution[i][1]])"
   ]
  },
  {
   "cell_type": "code",
   "execution_count": 25,
   "id": "c4763655",
   "metadata": {},
   "outputs": [
    {
     "data": {
      "text/plain": [
       "[['x_3', 1.0], ['x_5', 1.0], ['x_7', 1.0], ['x_8', 1.0], ['x_11', 1.0]]"
      ]
     },
     "execution_count": 25,
     "metadata": {},
     "output_type": "execute_result"
    }
   ],
   "source": [
    "active_variables"
   ]
  },
  {
   "cell_type": "markdown",
   "id": "4da9b53f",
   "metadata": {},
   "source": [
    "We notice that node 5 still features a fractional solution $J=29.65$ which is worse than $\\mathbb{B}\\mathbb{I}=29.70$. Hence, node 5 is **fathomed**. On the other hand, node 6 features a non-fractional solution where $J=29.82$. Because $J<\\mathbb{B}\\mathbb{B}$, this solution is dominated by the current best incumbent. We have no more nodes with that are unexplored, hence our search is over. We artificially lower our $\\mathbb{B}\\mathbb{B}$ to $29.70$ to match $\\mathbb{B}\\mathbb{I}$, and our optimal solution is $J=29.70$ where $x_3=x_7=x_8=x_9=x_{10}=x_{11}=1$.   "
   ]
  },
  {
   "cell_type": "markdown",
   "id": "38cdb1e8",
   "metadata": {},
   "source": [
    "To confirm this, we now run the MILP where decision variables are binary, and let the solver carry out the B\\&B process for us"
   ]
  },
  {
   "cell_type": "code",
   "execution_count": 27,
   "id": "2a87a65e",
   "metadata": {},
   "outputs": [
    {
     "name": "stdout",
     "output_type": "stream",
     "text": [
      "Creating decision variables\n",
      "Creating constraints\n",
      "Creating objective function\n",
      "Changed value of parameter MIPGap to 0.001\n",
      "   Prev: 0.0001  Min: 0.0  Max: inf  Default: 0.0001\n",
      "Changed value of parameter TimeLimit to 7200.0\n",
      "   Prev: inf  Min: 0.0  Max: inf  Default: inf\n",
      "Gurobi Optimizer version 9.1.1 build v9.1.1rc0 (win64)\n",
      "Thread count: 4 physical cores, 8 logical processors, using up to 8 threads\n",
      "Optimize a model with 1 rows, 12 columns and 12 nonzeros\n",
      "Model fingerprint: 0x76f1b785\n",
      "Variable types: 0 continuous, 12 integer (12 binary)\n",
      "Coefficient statistics:\n",
      "  Matrix range     [5e-01, 3e+00]\n",
      "  Objective range  [3e+00, 8e+00]\n",
      "  Bounds range     [1e+00, 1e+00]\n",
      "  RHS range        [7e+00, 7e+00]\n",
      "Found heuristic solution: objective 21.3000000\n",
      "Presolve time: 0.01s\n",
      "Presolved: 1 rows, 12 columns, 12 nonzeros\n",
      "Variable types: 0 continuous, 12 integer (12 binary)\n",
      "\n",
      "Root relaxation: objective 2.990000e+01, 1 iterations, 0.00 seconds\n",
      "\n",
      "    Nodes    |    Current Node    |     Objective Bounds      |     Work\n",
      " Expl Unexpl |  Obj  Depth IntInf | Incumbent    BestBd   Gap | It/Node Time\n",
      "\n",
      "     0     0   29.90000    0    1   21.30000   29.90000  40.4%     -    0s\n",
      "H    0     0                      29.7000000   29.90000  0.67%     -    0s\n",
      "     0     0   29.90000    0    1   29.70000   29.90000  0.67%     -    0s\n",
      "\n",
      "Explored 1 nodes (1 simplex iterations) in 0.04 seconds\n",
      "Thread count was 8 (of 8 available processors)\n",
      "\n",
      "Solution count 2: 29.7 21.3 \n",
      "\n",
      "Optimal solution found (tolerance 1.00e-03)\n",
      "Best objective 2.970000000000e+01, best bound 2.970000000000e+01, gap 0.0000%\n"
     ]
    },
    {
     "data": {
      "text/plain": [
       "[['x_3', 1.0],\n",
       " ['x_7', 1.0],\n",
       " ['x_8', 1.0],\n",
       " ['x_9', 1.0],\n",
       " ['x_10', 1.0],\n",
       " ['x_11', 1.0]]"
      ]
     },
     "execution_count": 27,
     "metadata": {},
     "output_type": "execute_result"
    }
   ],
   "source": [
    "# Setup model\n",
    "model = Model()\n",
    "\n",
    "print('Creating decision variables')\n",
    "x = {}\n",
    "\n",
    "for t,_ in T.items():\n",
    "    x[t] = model.addVar(lb=0, ub=1, vtype=GRB.BINARY,name=\"x_%s\"%(t))\n",
    "    \n",
    "print('Creating constraints')\n",
    "lhs = LinExpr()\n",
    "for t,_ in T.items():\n",
    "    lhs += T[t][1]*x[t]\n",
    "model.addLConstr(lhs=lhs, sense=GRB.LESS_EQUAL, rhs=Budget,\n",
    "                    name='Budget')\n",
    "\n",
    "print('Creating objective function')\n",
    "obj = LinExpr()\n",
    "for t,_ in T.items():\n",
    "    obj += T[t][2]*x[t]\n",
    "\n",
    "\n",
    "model.setObjective(obj,GRB.MAXIMIZE)\n",
    "model.update()  \n",
    "  \n",
    "\n",
    "# Solve\n",
    "model.setParam('MIPGap',0.001)\n",
    "model.setParam('TimeLimit',2*3600) # seconds\n",
    "model.optimize()\n",
    "\n",
    "\n",
    "solution = []\n",
    "\n",
    "# Retrieve variable names and values\n",
    "for v in model.getVars():\n",
    "    solution.append([v.varName,v.x])\n",
    "    \n",
    "# Retrieve active routing variables\n",
    "active_variables = []\n",
    "for i in range(0,len(solution)):\n",
    "    if solution[i][1] >= 0.01:\n",
    "        active_variables.append([solution[i][0],solution[i][1]])\n",
    "        \n",
    "active_variables"
   ]
  },
  {
   "cell_type": "markdown",
   "id": "a64f3f08",
   "metadata": {},
   "source": [
    "We notice that the optimal solution is consistent with what we found with our home-made B\\&B. It should also be noted that Gurobi only explored a single node (the **root node**), while we had to explore 7. The reason behind this is that Gurobi employs a lot of pre-processing techniques that simplify the problem already, and is geenrally capable of eliminating some decision variables/constraints even before starting the B\\&B procedure. What is important here is that, for this simple example, we were capable of fully exploring the B\\&B decision tree and show how the optimal solution is obtained by keeping trach of the best bound $\\mathbb{B}\\mathbb{B}$, the best incumbent $\\mathbb{B}\\mathbb{I}$, and applying fathoming rules."
   ]
  },
  {
   "cell_type": "code",
   "execution_count": null,
   "id": "41827577",
   "metadata": {},
   "outputs": [],
   "source": []
  }
 ],
 "metadata": {
  "kernelspec": {
   "display_name": "Python 3 (Spyder)",
   "language": "python3",
   "name": "python3"
  },
  "language_info": {
   "codemirror_mode": {
    "name": "ipython",
    "version": 3
   },
   "file_extension": ".py",
   "mimetype": "text/x-python",
   "name": "python",
   "nbconvert_exporter": "python",
   "pygments_lexer": "ipython3",
   "version": "3.8.5"
  }
 },
 "nbformat": 4,
 "nbformat_minor": 5
}
