{
 "cells": [
  {
   "cell_type": "markdown",
   "id": "f4c173b4",
   "metadata": {},
   "source": [
    "## Multiple source multiple sink Minimum Cost Flow (MCF) Problem"
   ]
  },
  {
   "cell_type": "code",
   "execution_count": 1,
   "id": "0c5a6faa",
   "metadata": {},
   "outputs": [],
   "source": [
    "import numpy as np\n",
    "import pandas as pd\n",
    "import os\n",
    "import igraph as ig\n",
    "import networkx as nx\n",
    "import random\n",
    "from gurobipy import Model,GRB,LinExpr,quicksum\n",
    "import cartopy\n",
    "import cartopy.crs as ccrs\n",
    "import matplotlib as mp\n",
    "import matplotlib.pyplot as plt\n",
    "import matplotlib.ticker as mticker\n",
    "from matplotlib.axes._axes import _log as matplotlib_axes_logger\n",
    "matplotlib_axes_logger.setLevel('ERROR')\n",
    "from cartopy.mpl.gridliner import LONGITUDE_FORMATTER, LATITUDE_FORMATTER\n",
    "import matplotlib.patheffects as PathEffects\n",
    "import cartopy.io.shapereader as shpreader\n",
    "import cartopy.feature as cfeature\n",
    "import itertools\n",
    "from pyomo.environ import *\n",
    "\n",
    "V = {1:{'F':10},\n",
    "     2:{'F':0},\n",
    "     3:{'F':5},\n",
    "     4:{'F':0},\n",
    "     5:{'F':0},\n",
    "     6:{'F':-15}}\n",
    "\n",
    "E = {(1,2):{'U':8,'C':3},\n",
    "     (1,3):{'U':6,'C':5},\n",
    "     (2,3):{'U':5,'C':2},\n",
    "     (2,4):{'U':5,'C':4},\n",
    "     (3,2):{'U':7,'C':10},\n",
    "     (3,4):{'U':10,'C':8},\n",
    "     (3,5):{'U':4,'C':5},\n",
    "     (4,5):{'U':8,'C':3},\n",
    "     (4,6):{'U':5,'C':3},\n",
    "     (5,6):{'U':10,'C':7}}\n",
    "\n",
    "F =  {k:v['F'] for k,v in V.items()}\n",
    "U =  {k:e['U'] for k,e in E.items()}\n",
    "C =  {k:e['C'] for k,e in E.items()}"
   ]
  },
  {
   "cell_type": "code",
   "execution_count": 2,
   "id": "59b3afa7",
   "metadata": {},
   "outputs": [],
   "source": [
    "model = ConcreteModel()\n",
    "\n",
    "# Define sets\n",
    "model.vertices = Set(initialize=V.keys())\n",
    "model.edges    = Set(initialize=E.keys())\n",
    "\n",
    "# Define parameters\n",
    "model.netflow  = Param(model.vertices, initialize=F, within=Reals)\n",
    "model.capacity = Param(model.edges, initialize=U, within=NonNegativeReals)\n",
    "model.cost     = Param(model.edges, initialize=C, within=NonNegativeReals)\n",
    "\n",
    "# Define the decision variables\n",
    "model.x = Var(model.edges, within=NonNegativeReals)\n",
    "\n",
    "# Define the objective function\n",
    "model.obj = Objective(expr=sum(model.cost[(u, v)] * model.x[(u, v)] for (u, v) in model.edges), sense=minimize)\n",
    "\n",
    "# Define the constraints\n",
    "model.flow_conservation = ConstraintList()\n",
    "for v in model.vertices:\n",
    "    model.flow_conservation.add(sum(model.x[(v, w)] for w in model.vertices if (v,w) in model.edges)-\n",
    "                                sum(model.x[(w, v)] for w in model.vertices if (w,v) in model.edges)\n",
    "                                == model.netflow[v])\n",
    "\n",
    "model.upper_bound = ConstraintList()\n",
    "for (v,w) in model.edges:\n",
    "    model.upper_bound.add(model.x[(v, w)] <= model.capacity[(v,w)])\n",
    "    \n",
    "# Initialize the variables\n",
    "for (v, w) in model.edges:\n",
    "    model.x[(v, w)].value = 0"
   ]
  },
  {
   "cell_type": "code",
   "execution_count": 3,
   "id": "eb6809f5",
   "metadata": {},
   "outputs": [
    {
     "name": "stdout",
     "output_type": "stream",
     "text": [
      "Overall cost to process water: 231.0\n",
      "Water flow along 1 - 2: 5.0\n",
      "Water flow along 1 - 3: 5.0\n",
      "Water flow along 2 - 3: 0.0\n",
      "Water flow along 2 - 4: 5.0\n",
      "Water flow along 3 - 2: 0.0\n",
      "Water flow along 3 - 4: 6.0\n",
      "Water flow along 3 - 5: 4.0\n",
      "Water flow along 4 - 5: 6.0\n",
      "Water flow along 4 - 6: 5.0\n",
      "Water flow along 5 - 6: 10.0\n"
     ]
    }
   ],
   "source": [
    "# Solve the problem\n",
    "solver = SolverFactory('gurobi')\n",
    "solver.solve(model)\n",
    "\n",
    "# Print the results\n",
    "print('Overall cost to process water:', model.obj())\n",
    "for (v, w) in model.edges:\n",
    "    print(f'Water flow along {v} - {w}: {model.x[(v, w)].value}')"
   ]
  },
  {
   "cell_type": "code",
   "execution_count": null,
   "id": "69f59fc1",
   "metadata": {},
   "outputs": [],
   "source": []
  }
 ],
 "metadata": {
  "kernelspec": {
   "display_name": "Python 3 (Spyder)",
   "language": "python3",
   "name": "python3"
  },
  "language_info": {
   "codemirror_mode": {
    "name": "ipython",
    "version": 3
   },
   "file_extension": ".py",
   "mimetype": "text/x-python",
   "name": "python",
   "nbconvert_exporter": "python",
   "pygments_lexer": "ipython3",
   "version": "3.8.5"
  }
 },
 "nbformat": 4,
 "nbformat_minor": 5
}
