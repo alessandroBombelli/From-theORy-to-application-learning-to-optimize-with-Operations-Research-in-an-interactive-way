{
 "cells": [
  {
   "cell_type": "markdown",
   "id": "3cf13114",
   "metadata": {},
   "source": [
    "## Shortest Path (SP) Problem"
   ]
  },
  {
   "cell_type": "code",
   "execution_count": 1,
   "id": "bc0d1a4d",
   "metadata": {},
   "outputs": [],
   "source": [
    "import numpy as np\n",
    "import pandas as pd\n",
    "import os\n",
    "import igraph as ig\n",
    "import networkx as nx\n",
    "import random\n",
    "from gurobipy import Model,GRB,LinExpr,quicksum\n",
    "import cartopy\n",
    "import cartopy.crs as ccrs\n",
    "import matplotlib as mp\n",
    "import matplotlib.pyplot as plt\n",
    "import matplotlib.ticker as mticker\n",
    "from matplotlib.axes._axes import _log as matplotlib_axes_logger\n",
    "matplotlib_axes_logger.setLevel('ERROR')\n",
    "from cartopy.mpl.gridliner import LONGITUDE_FORMATTER, LATITUDE_FORMATTER\n",
    "import matplotlib.patheffects as PathEffects\n",
    "import cartopy.io.shapereader as shpreader\n",
    "import cartopy.feature as cfeature\n",
    "from pyomo.environ import *\n",
    "\n",
    "V = {'TX':1,\n",
    "     'AK':2,\n",
    "     'LA':3,\n",
    "     'TN':4,\n",
    "     'AL':5,\n",
    "     'NC':6}\n",
    "\n",
    "E = {('TX','AK'):446,\n",
    "     ('TX','LA'):432,\n",
    "     ('AK','LA'):343,\n",
    "     ('AK','TN'):347,\n",
    "     ('AK','AL'):463,\n",
    "     ('LA','TN'):587,\n",
    "     ('LA','AL'):365,\n",
    "     ('TN','NC'):539,\n",
    "     ('AL','TN'):281,\n",
    "     ('AL','NC'):569}"
   ]
  },
  {
   "cell_type": "code",
   "execution_count": 2,
   "id": "3daea7bd",
   "metadata": {},
   "outputs": [],
   "source": [
    "model = ConcreteModel()\n",
    "\n",
    "# Define sets\n",
    "model.vertices = Set(initialize=V.keys())\n",
    "model.edges    = Set(initialize=E.keys())\n",
    "\n",
    "s              = 'TX'\n",
    "t              = 'NC'\n",
    "\n",
    "# Define parameters\n",
    "model.distance = Param(model.edges, initialize=E, within=NonNegativeReals)\n",
    "\n",
    "# Define the decision variables\n",
    "model.x = Var(model.edges, within=NonNegativeReals)\n",
    "\n",
    "# Define the objective function\n",
    "model.obj = Objective(expr=sum(model.distance[(u, v)] * model.x[(u, v)] for (u, v) in model.edges), sense=minimize)\n",
    "\n",
    "# Define the constraints\n",
    "model.xlow_balance = ConstraintList()\n",
    "for v in model.vertices:\n",
    "    if v == s:\n",
    "        model.xlow_balance.add(sum(model.x[(v, w)] for w in model.vertices if (v, w) in model.edges)\n",
    "                               - sum(model.x[(w, v)] for w in model.vertices if (w, v) in model.edges) \n",
    "                               == 1)\n",
    "    elif v == t:\n",
    "        model.xlow_balance.add(sum(model.x[(v, w)] for w in model.vertices if (v, w) in model.edges)\n",
    "                               - sum(model.x[(w, v)] for w in model.vertices if (w, v) in model.edges) \n",
    "                               == -1)\n",
    "    else:\n",
    "        model.xlow_balance.add(sum(model.x[(v, w)] for w in model.vertices if (v, w) in model.edges)\n",
    "                               - sum(model.x[(w, v)] for w in model.vertices if (w, v) in model.edges) \n",
    "                               == 0)\n",
    "            \n",
    "# Initialize the variables\n",
    "for (v, w) in model.edges:\n",
    "    model.x[(v, w)].value = 0"
   ]
  },
  {
   "cell_type": "code",
   "execution_count": 3,
   "id": "9ff85975",
   "metadata": {},
   "outputs": [
    {
     "name": "stdout",
     "output_type": "stream",
     "text": [
      "Shortest path: 1332.0\n",
      "Going from TX to AK: 1.0\n",
      "Going from TX to LA: 0.0\n",
      "Going from AK to LA: 0.0\n",
      "Going from AK to TN: 1.0\n",
      "Going from AK to AL: 0.0\n",
      "Going from LA to TN: 0.0\n",
      "Going from LA to AL: 0.0\n",
      "Going from TN to NC: 1.0\n",
      "Going from AL to TN: 0.0\n",
      "Going from AL to NC: 0.0\n"
     ]
    }
   ],
   "source": [
    "# Solve the problem\n",
    "solver = SolverFactory('gurobi')\n",
    "solver.solve(model)\n",
    "\n",
    "# Print the results\n",
    "print('Shortest path:', model.obj())\n",
    "for (v, w) in model.edges:\n",
    "    print(f'Going from {v} to {w}: {model.x[(v, w)].value}')"
   ]
  },
  {
   "cell_type": "code",
   "execution_count": null,
   "id": "206bb9a1",
   "metadata": {},
   "outputs": [],
   "source": []
  }
 ],
 "metadata": {
  "kernelspec": {
   "display_name": "Python 3 (Spyder)",
   "language": "python3",
   "name": "python3"
  },
  "language_info": {
   "codemirror_mode": {
    "name": "ipython",
    "version": 3
   },
   "file_extension": ".py",
   "mimetype": "text/x-python",
   "name": "python",
   "nbconvert_exporter": "python",
   "pygments_lexer": "ipython3",
   "version": "3.8.5"
  }
 },
 "nbformat": 4,
 "nbformat_minor": 5
}
