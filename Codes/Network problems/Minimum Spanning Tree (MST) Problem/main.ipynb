{
 "cells": [
  {
   "cell_type": "markdown",
   "id": "dba406e8",
   "metadata": {},
   "source": [
    "## Minimum Spaning Tree (MST)"
   ]
  },
  {
   "cell_type": "code",
   "execution_count": 2,
   "id": "48a84479",
   "metadata": {},
   "outputs": [],
   "source": [
    "import numpy as np\n",
    "import pandas as pd\n",
    "import os\n",
    "import igraph as ig\n",
    "import networkx as nx\n",
    "import random\n",
    "from gurobipy import Model,GRB,LinExpr,quicksum\n",
    "import cartopy\n",
    "import cartopy.crs as ccrs\n",
    "import matplotlib as mp\n",
    "import matplotlib.pyplot as plt\n",
    "import matplotlib.ticker as mticker\n",
    "from matplotlib.axes._axes import _log as matplotlib_axes_logger\n",
    "matplotlib_axes_logger.setLevel('ERROR')\n",
    "from cartopy.mpl.gridliner import LONGITUDE_FORMATTER, LATITUDE_FORMATTER\n",
    "import matplotlib.patheffects as PathEffects\n",
    "import cartopy.io.shapereader as shpreader\n",
    "import cartopy.feature as cfeature\n",
    "import itertools\n",
    "from pyomo.environ import *\n",
    "\n",
    "V = {'TX':1,\n",
    "     'AK':2,\n",
    "     'LA':3,\n",
    "     'TN':4,\n",
    "     'AL':5,\n",
    "     'NC':6}\n",
    "\n",
    "E = {('TX','AK'):446,\n",
    "     ('TX','LA'):432,\n",
    "     ('AK','LA'):343,\n",
    "     ('AK','TN'):347,\n",
    "     ('AK','AL'):463,\n",
    "     ('LA','TN'):587,\n",
    "     ('LA','AL'):365,\n",
    "     ('TN','NC'):539,\n",
    "     ('AL','TN'):281,\n",
    "     ('AL','NC'):569}\n",
    "\n",
    "S = list(itertools.combinations(V.keys(),3))+\\\n",
    "    list(itertools.combinations(V.keys(),4))+\\\n",
    "    list(itertools.combinations(V.keys(),5))\n",
    "    \n",
    "E_s = {s:[e for e in E if (e[0] in s and e[1] in s)] for s in S}"
   ]
  },
  {
   "cell_type": "code",
   "execution_count": 3,
   "id": "99b18a42",
   "metadata": {},
   "outputs": [],
   "source": [
    "model = ConcreteModel()\n",
    "\n",
    "# Define sets\n",
    "model.vertices = Set(initialize=V.keys())\n",
    "model.edges    = Set(initialize=E.keys())\n",
    "\n",
    "# Define parameters\n",
    "model.distance = Param(model.edges, initialize=E, within=NonNegativeReals)\n",
    "\n",
    "# Define the decision variables\n",
    "model.x = Var(model.edges, within=Binary)\n",
    "\n",
    "# Define the objective function\n",
    "model.obj = Objective(expr=sum(model.distance[(u, v)] * model.x[(u, v)] for (u, v) in model.edges), sense=minimize)\n",
    "\n",
    "# Define the constraints\n",
    "\n",
    "model.number_edges = ConstraintList()\n",
    "model.number_edges.add(sum(model.x[(v, w)] for (v,w) in model.edges)==len(V)-1)\n",
    "\n",
    "model.subtour_elim = ConstraintList()\n",
    "for s in S:\n",
    "    model.subtour_elim.add(sum(model.x[(v, w)] for (v,w) in model.edges \n",
    "                           if (v,w) in E_s[s])<=len(s)-1)\n",
    "    \n",
    "\n",
    "\n",
    "\n",
    "# Initialize the variables\n",
    "for (v, w) in model.edges:\n",
    "    model.x[(v, w)].value = 0"
   ]
  },
  {
   "cell_type": "code",
   "execution_count": 4,
   "id": "eaa40264",
   "metadata": {},
   "outputs": [
    {
     "name": "stdout",
     "output_type": "stream",
     "text": [
      "Overall distance of the minimum spanning tree: 1942.0\n",
      "Edge TX - AK: -0.0\n",
      "Edge TX - LA: 1.0\n",
      "Edge AK - LA: 1.0\n",
      "Edge AK - TN: 1.0\n",
      "Edge AK - AL: -0.0\n",
      "Edge LA - TN: -0.0\n",
      "Edge LA - AL: 0.0\n",
      "Edge TN - NC: 1.0\n",
      "Edge AL - TN: 1.0\n",
      "Edge AL - NC: -0.0\n"
     ]
    }
   ],
   "source": [
    "# Solve the problem\n",
    "solver = SolverFactory('gurobi')\n",
    "solver.solve(model)\n",
    "\n",
    "# Print the results\n",
    "print('Overall distance of the minimum spanning tree:', model.obj())\n",
    "for (v, w) in model.edges:\n",
    "    print(f'Edge {v} - {w}: {model.x[(v, w)].value}')"
   ]
  },
  {
   "cell_type": "code",
   "execution_count": null,
   "id": "9f870fce",
   "metadata": {},
   "outputs": [],
   "source": []
  }
 ],
 "metadata": {
  "kernelspec": {
   "display_name": "Python 3 (Spyder)",
   "language": "python3",
   "name": "python3"
  },
  "language_info": {
   "codemirror_mode": {
    "name": "ipython",
    "version": 3
   },
   "file_extension": ".py",
   "mimetype": "text/x-python",
   "name": "python",
   "nbconvert_exporter": "python",
   "pygments_lexer": "ipython3",
   "version": "3.8.5"
  }
 },
 "nbformat": 4,
 "nbformat_minor": 5
}
