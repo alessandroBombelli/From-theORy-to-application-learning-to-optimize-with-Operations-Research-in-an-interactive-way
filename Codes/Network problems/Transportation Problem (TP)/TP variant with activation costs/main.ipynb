{
 "cells": [
  {
   "cell_type": "markdown",
   "metadata": {},
   "source": [
    "## Transportation Problem (TP) with activation costs"
   ]
  },
  {
   "cell_type": "code",
   "execution_count": 1,
   "metadata": {},
   "outputs": [
    {
     "name": "stdout",
     "output_type": "stream",
     "text": [
      "x[1,1] = 0.0, y[1,1] = 1.0\n",
      "x[1,2] = 0.0, y[1,2] = 1.0\n",
      "x[1,3] = 50.0, y[1,3] = 1.0\n",
      "x[2,1] = 50.0, y[2,1] = 1.0\n",
      "x[2,3] = 20.0, y[2,3] = 1.0\n",
      "x[2,4] = 10.0, y[2,4] = 1.0\n",
      "x[3,2] = 10.0, y[3,2] = 1.0\n",
      "x[3,3] = 0.0, y[3,3] = 1.0\n",
      "x[3,4] = 0.0, y[3,4] = 1.0\n",
      "Active Variables:\n",
      "[('x[1,3]', 50.0), ('x[2,1]', 50.0), ('x[2,3]', 20.0), ('x[2,4]', 10.0), ('x[3,2]', 10.0)]\n"
     ]
    }
   ],
   "source": [
    "import pyomo.environ as pyo\n",
    "import numpy as np\n",
    "\n",
    "# Define sets of sources and destinations\n",
    "N_s = 3\n",
    "N_d = 4\n",
    "\n",
    "S = pyo.RangeSet(1, N_s)\n",
    "D = pyo.RangeSet(1, N_d)\n",
    "\n",
    "# Define subsets S_d and D_s\n",
    "D_s = {1: [1, 2, 3],\n",
    "       2: [1, 3, 4],\n",
    "       3: [2, 3, 4]}\n",
    "\n",
    "S_d = {1: [1, 2],\n",
    "       2: [1, 3],\n",
    "       3: [1, 2, 3],\n",
    "       4: [2, 3]}\n",
    "\n",
    "# Define all parameters needed by the model\n",
    "S_minus = {1: 10, 2: 10, 3: 10}\n",
    "S_plus = {1: 50, 2: 80, 3: 60}\n",
    "D_minus = {1: 50, 2: 10, 3: 70, 4: 10}\n",
    "D_plus = {1: 50, 2: 40, 3: 70, 4: 50}\n",
    "\n",
    "LB = 10\n",
    "UB = 20\n",
    "C_sd = {(s, d): np.random.randint(LB, UB) for s in S for d in D_s[s]}\n",
    "\n",
    "# Activation costs\n",
    "activation_costs = {(s, d): np.random.uniform(5, 15) for s in S for d in D_s[s]}\n",
    "\n",
    "# Maximum value for x_{s,d}\n",
    "M = max(S_plus.values())\n",
    "\n",
    "# Setup model\n",
    "model = pyo.ConcreteModel()\n",
    "\n",
    "# Decision variables\n",
    "model.x = pyo.Var(S, D, within=pyo.NonNegativeReals)\n",
    "model.y = pyo.Var(S, D, within=pyo.Binary)\n",
    "\n",
    "# Constraints\n",
    "model.C1 = pyo.Constraint(S, rule=lambda model, s: sum(model.x[s, d] for d in D_s[s]) >= S_minus[s])\n",
    "model.C2 = pyo.Constraint(S, rule=lambda model, s: sum(model.x[s, d] for d in D_s[s]) <= S_plus[s])\n",
    "model.C3 = pyo.Constraint(D, rule=lambda model, d: sum(model.x[s, d] for s in S_d[d]) >= D_minus[d])\n",
    "model.C4 = pyo.Constraint(D, rule=lambda model, d: sum(model.x[s, d] for s in S_d[d]) <= D_plus[d])\n",
    "\n",
    "# New constraint for activation costs\n",
    "model.C5 = pyo.Constraint(S, D, rule=lambda model, s, d: model.x[s, d] <= M * model.y[s, d])\n",
    "\n",
    "# Objective\n",
    "model.obj = pyo.Objective(expr=sum((C_sd[(s, d)] + activation_costs[(s, d)]) * model.x[s, d] for s in S for d in D_s[s]))\n",
    "\n",
    "# Solve MILP\n",
    "opt = pyo.SolverFactory('gurobi')\n",
    "opt.solve(model)\n",
    "\n",
    "# Display results\n",
    "for s in S:\n",
    "    for d in D_s[s]:\n",
    "        print(f\"x[{s},{d}] = {model.x[s, d].value}, y[{s},{d}] = {model.y[s, d].value}\")\n",
    "\n",
    "# Retrieve active routing variables\n",
    "eps = 0.00001\n",
    "active_variables = [(f\"x[{s},{d}]\", model.x[s, d].value) for s in S for d in D_s[s] if model.x[s, d].value >= eps]\n",
    "print(\"Active Variables:\")\n",
    "print(active_variables)\n"
   ]
  }
 ],
 "metadata": {
  "kernelspec": {
   "display_name": "Python 3 (Spyder)",
   "language": "python3",
   "name": "python3"
  },
  "language_info": {
   "codemirror_mode": {
    "name": "ipython",
    "version": 3
   },
   "file_extension": ".py",
   "mimetype": "text/x-python",
   "name": "python",
   "nbconvert_exporter": "python",
   "pygments_lexer": "ipython3",
   "version": "3.8.5"
  }
 },
 "nbformat": 4,
 "nbformat_minor": 4
}
