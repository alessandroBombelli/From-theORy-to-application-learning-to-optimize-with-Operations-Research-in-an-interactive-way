{
 "cells": [
  {
   "cell_type": "markdown",
   "id": "7550b145",
   "metadata": {},
   "source": [
    "## Assignment problem\n",
    "Assignment problem example with 6 teaching assistants needgin to be assigned to 3 projects"
   ]
  },
  {
   "cell_type": "code",
   "execution_count": 1,
   "id": "dd9d488f",
   "metadata": {},
   "outputs": [],
   "source": [
    "import numpy as np\n",
    "import pandas as pd\n",
    "import os\n",
    "import networkx as nx\n",
    "import random\n",
    "import matplotlib as mp\n",
    "import matplotlib.pyplot as plt\n",
    "import matplotlib.ticker as mticker\n",
    "from matplotlib.axes._axes import _log as matplotlib_axes_logger\n",
    "matplotlib_axes_logger.setLevel('ERROR')\n",
    "\n",
    "from pyomo.environ import *"
   ]
  },
  {
   "cell_type": "code",
   "execution_count": 2,
   "id": "770a7b94",
   "metadata": {},
   "outputs": [],
   "source": [
    "############\n",
    "### Sets ###\n",
    "############\n",
    "\n",
    "# Projects\n",
    "# Note: the first 3 are the \"real\" projects. Projects\n",
    "# 4, 5, and 6 are a replica of 1, 2, and 3 respectively\n",
    "P = {1:{'Name':'Project 1',1:2,2:1,3:4,4:3,5:7,6:5},\n",
    "     2:{'Name':'Project 2',1:1,2:4,3:2,4:1,5:4,6:9},\n",
    "     3:{'Name':'Project 3',1:3,2:2,3:5,4:3,5:6,6:4},\n",
    "     4:{'Name':'Project 4',1:2,2:1,3:4,4:3,5:7,6:5},\n",
    "     5:{'Name':'Project 5',1:1,2:4,3:2,4:1,5:4,6:9},\n",
    "     6:{'Name':'Project 6',1:3,2:2,3:5,4:3,5:6,6:4}}\n",
    "\n",
    "# Teaching assistants\n",
    "T = {1:{'Name':'TA 1'},\n",
    "     2:{'Name':'TA 2'},\n",
    "     3:{'Name':'TA 3'},\n",
    "     4:{'Name':'TA 4'},\n",
    "     5:{'Name':'TA 5'},\n",
    "     6:{'Name':'TA 6'}}"
   ]
  },
  {
   "cell_type": "code",
   "execution_count": 3,
   "id": "41a91c23",
   "metadata": {},
   "outputs": [],
   "source": [
    "model = ConcreteModel()\n",
    "\n",
    "# Define sets\n",
    "model.Projects = Set(initialize=P.keys())\n",
    "model.TAs      = Set(initialize=T.keys())\n",
    "\n",
    "# Define parameters\n",
    "model.C_pt = Param(model.Projects,model.TAs, initialize={(p,t):v[t] \n",
    "       for p,v in P.items() for t in T.keys()}, within=Any)\n",
    "\n",
    "# Define decision variables\n",
    "model.x = Var(model.Projects,model.TAs, within=Binary)\n",
    "\n",
    "# Define objective function\n",
    "model.obj = Objective(expr=sum(model.C_pt[p,t]*model.x[p,t] \n",
    "                               for p in model.Projects\n",
    "                               for t in model.TAs), sense=minimize)\n",
    "\n",
    "# Define constraints\n",
    "model.project_assigned_once = ConstraintList()\n",
    "for p in model.Projects:\n",
    "    model.project_assigned_once.add(expr=sum(model.x[p,t] \n",
    "                                         for t in model.TAs)==1)\n",
    "    \n",
    "model.TA_assigned_once = ConstraintList()\n",
    "for t in model.TAs:\n",
    "    model.project_assigned_once.add(expr=sum(model.x[p,t] \n",
    "                                         for p in model.Projects)==1) \n",
    "    "
   ]
  },
  {
   "cell_type": "code",
   "execution_count": null,
   "id": "a9cf2668",
   "metadata": {},
   "outputs": [],
   "source": [
    "# Solve the problem\n",
    "solver = SolverFactory('gurobi')\n",
    "solver.solve(model) "
   ]
  },
  {
   "cell_type": "code",
   "execution_count": 9,
   "id": "7c2d137a",
   "metadata": {},
   "outputs": [
    {
     "name": "stdout",
     "output_type": "stream",
     "text": [
      "Overall assignment cost: 16.0\n",
      "TA 1 - Project 1: 1.0\n",
      "TA 1 - Project 2: -0.0\n",
      "TA 1 - Project 3: 0.0\n",
      "TA 1 - Project 4: -0.0\n",
      "TA 1 - Project 5: -0.0\n",
      "TA 1 - Project 6: -0.0\n",
      "TA 2 - Project 1: 0.0\n",
      "TA 2 - Project 2: -0.0\n",
      "TA 2 - Project 3: -0.0\n",
      "TA 2 - Project 4: 1.0\n",
      "TA 2 - Project 5: -0.0\n",
      "TA 2 - Project 6: 0.0\n",
      "TA 3 - Project 1: -0.0\n",
      "TA 3 - Project 2: -0.0\n",
      "TA 3 - Project 3: -0.0\n",
      "TA 3 - Project 4: -0.0\n",
      "TA 3 - Project 5: 1.0\n",
      "TA 3 - Project 6: -0.0\n",
      "TA 4 - Project 1: -0.0\n",
      "TA 4 - Project 2: 0.0\n",
      "TA 4 - Project 3: -0.0\n",
      "TA 4 - Project 4: -0.0\n",
      "TA 4 - Project 5: 0.0\n",
      "TA 4 - Project 6: 1.0\n",
      "TA 5 - Project 1: -0.0\n",
      "TA 5 - Project 2: 1.0\n",
      "TA 5 - Project 3: -0.0\n",
      "TA 5 - Project 4: -0.0\n",
      "TA 5 - Project 5: -0.0\n",
      "TA 5 - Project 6: -0.0\n",
      "TA 6 - Project 1: -0.0\n",
      "TA 6 - Project 2: -0.0\n",
      "TA 6 - Project 3: 1.0\n",
      "TA 6 - Project 4: -0.0\n",
      "TA 6 - Project 5: -0.0\n",
      "TA 6 - Project 6: -0.0\n"
     ]
    }
   ],
   "source": [
    "# Print the results\n",
    "print('Overall assignment cost:', model.obj())\n",
    "for t in model.TAs:\n",
    "    for p in model.Projects:\n",
    "        print(f'TA {t} - Project {p}: {model.x[(p,t)].value}')  \n"
   ]
  },
  {
   "cell_type": "code",
   "execution_count": null,
   "id": "26926c2a",
   "metadata": {},
   "outputs": [],
   "source": []
  }
 ],
 "metadata": {
  "kernelspec": {
   "display_name": "Python 3 (Spyder)",
   "language": "python3",
   "name": "python3"
  },
  "language_info": {
   "codemirror_mode": {
    "name": "ipython",
    "version": 3
   },
   "file_extension": ".py",
   "mimetype": "text/x-python",
   "name": "python",
   "nbconvert_exporter": "python",
   "pygments_lexer": "ipython3",
   "version": "3.8.5"
  }
 },
 "nbformat": 4,
 "nbformat_minor": 5
}
