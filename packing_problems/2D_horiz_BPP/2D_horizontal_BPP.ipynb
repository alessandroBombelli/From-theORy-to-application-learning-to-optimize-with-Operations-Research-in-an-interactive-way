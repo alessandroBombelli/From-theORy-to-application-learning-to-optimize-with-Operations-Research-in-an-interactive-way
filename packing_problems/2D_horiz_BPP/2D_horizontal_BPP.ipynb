{
 "cells": [
  {
   "cell_type": "markdown",
   "id": "a0c41bef",
   "metadata": {},
   "source": [
    "## Two-dimensional horizontal Bin Packing Problem (BPP)\n"
   ]
  },
  {
   "cell_type": "markdown",
   "id": "9de70826",
   "metadata": {},
   "source": [
    "For the model, we refer to \"Packing problems\" chapter in the book "
   ]
  },
  {
   "cell_type": "code",
   "execution_count": 1,
   "id": "552e5032",
   "metadata": {},
   "outputs": [],
   "source": [
    "import numpy as np\n",
    "import pandas as pd\n",
    "import os\n",
    "import networkx as nx\n",
    "import random\n",
    "import matplotlib as mp\n",
    "import matplotlib.pyplot as plt\n",
    "import matplotlib.ticker as mticker\n",
    "from matplotlib.axes._axes import _log as matplotlib_axes_logger\n",
    "matplotlib_axes_logger.setLevel('ERROR')\n",
    "\n",
    "from pyomo.environ import *"
   ]
  },
  {
   "cell_type": "code",
   "execution_count": 2,
   "id": "0b27bf07",
   "metadata": {},
   "outputs": [],
   "source": [
    "############\n",
    "### Sets ###\n",
    "############\n",
    "\n",
    "# Bin types\n",
    "T = {1:{'L':10,'W':7,'C':10,'#':2},\n",
    "     2:{'L':8,'W':5,'C':8,'#':2}}\n",
    "\n",
    "# Bins\n",
    "cont = 1\n",
    "B    = {}\n",
    "for t,v in T.items():\n",
    "    for j in range(0,v['#']):\n",
    "        B[cont] = {'type':t,'L':v['L'],'W':v['W'],'C':v['C']}\n",
    "        cont += 1\n",
    "    \n",
    "B_t = {t:[k for k,v in B.items() if v['type']==t] for t in T.keys()}\n",
    "\n",
    "# Items\n",
    "I = {1:{'L':4,'W':2,'bin_types':[1,2],'rotation':'Y','incomp':[12,15]},\n",
    "    2:{'L':2,'W':3,'bin_types':[1,2],'rotation':'Y','incomp':[12,16]}, \n",
    "    3:{'L':2,'W':5,'bin_types':[1],'rotation':'N','incomp':[]}, \n",
    "    4:{'L':5,'W':1,'bin_types':[1],'rotation':'Y','incomp':[14]},\n",
    "    5:{'L':3,'W':3,'bin_types':[1,2],'rotation':'Y','incomp':[]},\n",
    "    6:{'L':3,'W':2,'bin_types':[1,2],'rotation':'Y','incomp':[]},\n",
    "    7:{'L':2,'W':3,'bin_types':[1,2],'rotation':'Y','incomp':[13]},\n",
    "    8:{'L':5,'W':2,'bin_types':[1,2],'rotation':'Y','incomp':[14]},\n",
    "    9:{'L':3,'W':1,'bin_types':[1],'rotation':'N','incomp':[]},\n",
    "    10:{'L':2,'W':1,'bin_types':[1,2],'rotation':'Y','incomp':[]},\n",
    "    11:{'L':5,'W':1,'bin_types':[1,2],'rotation':'Y','incomp':[15]},\n",
    "    12:{'L':4,'W':3,'bin_types':[2],'rotation':'N','incomp':[2]},\n",
    "    13:{'L':4,'W':2,'bin_types':[1,2],'rotation':'Y','incomp':[3]},\n",
    "    14:{'L':2,'W':1,'bin_types':[1,2],'rotation':'Y','incomp':[4]},\n",
    "    15:{'L':2,'W':3,'bin_types':[1,2],'rotation':'Y','incomp':[5]},\n",
    "    16:{'L':2,'W':6,'bin_types':[1,2],'rotation':'Y','incomp':[2,3]}     \n",
    "     }\n",
    "\n",
    "B_i = {i:[[b for b in B_t[t]] for t in I[i]['bin_types']] for i in I.keys()}\n",
    "B_i = {i:[x for xs in v for x in xs] for i,v in B_i.items()} # Flattening list of lists\n",
    "\n",
    "I_inc = [(i1,i2) for i1,v in I.items() for i2 in v['incomp']]"
   ]
  },
  {
   "cell_type": "code",
   "execution_count": 3,
   "id": "916adeae",
   "metadata": {},
   "outputs": [],
   "source": [
    "model = ConcreteModel()"
   ]
  },
  {
   "cell_type": "code",
   "execution_count": 4,
   "id": "6ab0d369",
   "metadata": {},
   "outputs": [],
   "source": [
    "# Define sets\n",
    "model.Bins     = Set(initialize=B.keys())\n",
    "model.Items    = Set(initialize=I.keys())\n",
    "model.XY       = Set(initialize=[1,2])"
   ]
  },
  {
   "cell_type": "code",
   "execution_count": 5,
   "id": "95bb4407",
   "metadata": {},
   "outputs": [],
   "source": [
    "# Define parameters\n",
    "model.L_b = Param(model.Bins, initialize={k:v['L'] for k,v in B.items()}, within=Any)\n",
    "model.W_b = Param(model.Bins, initialize={k:v['W'] for k,v in B.items()}, within=Any)\n",
    "model.L_i = Param(model.Items, initialize={k:v['L'] for k,v in I.items()}, within=Any)\n",
    "model.W_i = Param(model.Items, initialize={k:v['W'] for k,v in I.items()}, within=Any)\n",
    "model.C_b = Param(model.Bins, initialize={k:v['C'] for k,v in B.items()}, within=Any)\n",
    "\n",
    "L_max = max([v['L'] for k,v in B.items()])\n",
    "W_max = max([v['W'] for k,v in B.items()])\n",
    "\n",
    "eps   = 0.1"
   ]
  },
  {
   "cell_type": "code",
   "execution_count": 6,
   "id": "ac3527bc",
   "metadata": {},
   "outputs": [],
   "source": [
    "# Define decision variables\n",
    "model.x = Var(model.Items, within=NonNegativeReals)\n",
    "model.y = Var(model.Items, within=NonNegativeReals)\n",
    "model.r = Var(model.Items,model.XY,model.XY, within=Binary)\n",
    "model.p = Var(model.Items,model.Bins, within=Binary)\n",
    "model.l = Var(model.Items,model.Items, within=Binary)\n",
    "model.b = Var(model.Items,model.Items, within=Binary)\n",
    "model.z = Var(model.Bins, within=Binary)"
   ]
  },
  {
   "cell_type": "code",
   "execution_count": 7,
   "id": "858d6b31",
   "metadata": {},
   "outputs": [],
   "source": [
    "# Define objective function\n",
    "model.obj = Objective(expr=sum(model.C_b[b]*model.z[b] for b in model.Bins), sense=minimize)"
   ]
  },
  {
   "cell_type": "code",
   "execution_count": 8,
   "id": "8878a4c7",
   "metadata": {},
   "outputs": [],
   "source": [
    "# Define constraints\n",
    "model.no_overlap = ConstraintList()\n",
    "for i in model.Items:\n",
    "    for j in model.Items:\n",
    "        if j != i:\n",
    "            for b in list(set(B_i[i]) & set(B_i[j])):\n",
    "                model.no_overlap.add(model.l[i,j]+model.l[j,i]+\n",
    "                                 model.b[i,j]+model.b[j,i] >= \n",
    "                                 model.p[i,b]+model.p[j,b]-1)"
   ]
  },
  {
   "cell_type": "code",
   "execution_count": 9,
   "id": "b3337a29",
   "metadata": {},
   "outputs": [],
   "source": [
    "model.relative_x = ConstraintList()\n",
    "for i in model.Items:\n",
    "    for j in model.Items:\n",
    "        if j != i:\n",
    "            for b in list(set(B_i[i]) & set(B_i[j])):\n",
    "                model.relative_x.add(model.x[j]>=model.x[i]+model.L_i[i]*model.r[i,1,1]\n",
    "                                     +model.W_i[i]*model.r[i,1,2]-L_max*(1-model.l[i,j]))\n",
    "                model.relative_x.add(model.x[j]+eps<=model.x[i]+model.L_i[i]*model.r[i,1,1]\n",
    "                                     +model.W_i[i]*model.r[i,1,2]+L_max*model.l[i,j])\n"
   ]
  },
  {
   "cell_type": "code",
   "execution_count": 10,
   "id": "d7284df2",
   "metadata": {},
   "outputs": [],
   "source": [
    "model.relative_y = ConstraintList()\n",
    "for i in model.Items:\n",
    "    for j in model.Items:\n",
    "        if j != i:\n",
    "            for b in list(set(B_i[i]) & set(B_i[j])):\n",
    "                model.relative_y.add(model.y[j]>=model.y[i]+model.L_i[i]*model.r[i,2,1]\n",
    "                                     +model.W_i[i]*model.r[i,2,2]-W_max*(1-model.b[i,j]))\n",
    "                model.relative_y.add(model.y[j]+eps<=model.y[i]+model.L_i[i]*model.r[i,2,1]\n",
    "                                     +model.W_i[i]*model.r[i,2,2]+W_max*model.b[i,j])\n"
   ]
  },
  {
   "cell_type": "code",
   "execution_count": 11,
   "id": "a7e0e7b4",
   "metadata": {},
   "outputs": [],
   "source": [
    "model.max_x = ConstraintList()\n",
    "for i in model.Items:\n",
    "    model.max_x.add(model.x[i]+model.L_i[i]*model.r[i,1,1]\n",
    "                    +model.W_i[i]*model.r[i,1,2]<=\n",
    "                    sum(model.L_b[b]*model.p[i,b] for b in B_i[i]))\n",
    "\n",
    "model.max_y = ConstraintList()\n",
    "for i in model.Items:\n",
    "    model.max_y.add(model.y[i]+model.L_i[i]*model.r[i,2,1]\n",
    "                    +model.W_i[i]*model.r[i,2,2]<=\n",
    "                    sum(model.W_b[b]*model.p[i,b] for b in B_i[i]))"
   ]
  },
  {
   "cell_type": "code",
   "execution_count": 12,
   "id": "919b2940",
   "metadata": {},
   "outputs": [],
   "source": [
    "model.r1 = ConstraintList()\n",
    "for i in model.Items:\n",
    "    for d1 in model.XY:\n",
    "        model.r1.add(sum(model.r[i,d1,d2] for d2 in model.XY)==1)\n",
    "        \n",
    "model.r2 = ConstraintList()\n",
    "for i in model.Items:\n",
    "    for d1 in model.XY:\n",
    "        model.r2.add(sum(model.r[i,d2,d1] for d2 in model.XY)==1)"
   ]
  },
  {
   "cell_type": "code",
   "execution_count": 13,
   "id": "5a1781c2",
   "metadata": {},
   "outputs": [],
   "source": [
    "model.item_assignment = ConstraintList()\n",
    "for i in model.Items:\n",
    "    model.item_assignment.add(sum(model.p[i,b] for b in B_i[i])==1)"
   ]
  },
  {
   "cell_type": "code",
   "execution_count": 14,
   "id": "e909c0a9",
   "metadata": {},
   "outputs": [],
   "source": [
    "model.bin_activation = ConstraintList()\n",
    "for i in model.Items:\n",
    "    for b in B_i[i]:\n",
    "        model.bin_activation.add(model.p[i,b]<=model.z[b])"
   ]
  },
  {
   "cell_type": "code",
   "execution_count": 15,
   "id": "4f9a5067",
   "metadata": {},
   "outputs": [],
   "source": [
    "model.item_incomp = ConstraintList()\n",
    "for pair in I_inc:\n",
    "    for b in list(set(B_i[pair[0]]) & set(B_i[pair[1]])):\n",
    "        model.item_incomp.add(model.p[pair[0],b]+model.p[pair[1],b]<=1)"
   ]
  },
  {
   "cell_type": "code",
   "execution_count": 16,
   "id": "7573df2e",
   "metadata": {},
   "outputs": [],
   "source": [
    "model.symmetry_breaking = ConstraintList()\n",
    "for t,v in B_t.items():\n",
    "    for b in range(0,len(v)-1):\n",
    "        model.symmetry_breaking.add(model.z[v[b+1]]<=model.z[v[b]])"
   ]
  },
  {
   "cell_type": "code",
   "execution_count": 17,
   "id": "e19348a8",
   "metadata": {},
   "outputs": [
    {
     "data": {
      "text/plain": [
       "{'Problem': [{'Name': 'x677', 'Lower bound': 18.0, 'Upper bound': 18.0, 'Number of objectives': 1, 'Number of constraints': 3873, 'Number of variables': 625, 'Number of binary variables': 592, 'Number of integer variables': 592, 'Number of continuous variables': 33, 'Number of nonzeros': 19625, 'Sense': 'minimize'}], 'Solver': [{'Status': 'ok', 'Return code': '0', 'Message': 'Model was solved to optimality (subject to tolerances), and an optimal solution is available.', 'Termination condition': 'optimal', 'Termination message': 'Model was solved to optimality (subject to tolerances), and an optimal solution is available.', 'Wall time': '0.825937271118', 'Error rc': 0, 'Time': 2.342886447906494}], 'Solution': [OrderedDict([('number of solutions', 0), ('number of solutions displayed', 0)])]}"
      ]
     },
     "execution_count": 17,
     "metadata": {},
     "output_type": "execute_result"
    }
   ],
   "source": [
    "# Solve the problem\n",
    "solver = SolverFactory('gurobi')\n",
    "solver.solve(model)"
   ]
  },
  {
   "cell_type": "code",
   "execution_count": 18,
   "id": "5a81efdb",
   "metadata": {},
   "outputs": [
    {
     "name": "stdout",
     "output_type": "stream",
     "text": [
      "Overall cost of used bins: 18.0\n",
      "Item 1 - Bin 1: 1.0\n",
      "Item 1 - Bin 2: -0.0\n",
      "Item 1 - Bin 3: -0.0\n",
      "Item 1 - Bin 4: -0.0\n",
      "Item 2 - Bin 1: 1.0\n",
      "Item 2 - Bin 2: -0.0\n",
      "Item 2 - Bin 3: -0.0\n",
      "Item 2 - Bin 4: 0.0\n",
      "Item 3 - Bin 1: 1.0\n",
      "Item 3 - Bin 2: 0.0\n",
      "Item 4 - Bin 1: 1.0\n",
      "Item 4 - Bin 2: 0.0\n",
      "Item 5 - Bin 1: 1.0\n",
      "Item 5 - Bin 2: 0.0\n",
      "Item 5 - Bin 3: -0.0\n",
      "Item 5 - Bin 4: -0.0\n",
      "Item 6 - Bin 1: 1.0\n",
      "Item 6 - Bin 2: -0.0\n",
      "Item 6 - Bin 3: 0.0\n",
      "Item 6 - Bin 4: -0.0\n",
      "Item 7 - Bin 1: 1.0\n",
      "Item 7 - Bin 2: 0.0\n",
      "Item 7 - Bin 3: 0.0\n",
      "Item 7 - Bin 4: -0.0\n",
      "Item 8 - Bin 1: 1.0\n",
      "Item 8 - Bin 2: 0.0\n",
      "Item 8 - Bin 3: 0.0\n",
      "Item 8 - Bin 4: -0.0\n",
      "Item 9 - Bin 1: 1.0\n",
      "Item 9 - Bin 2: 0.0\n",
      "Item 10 - Bin 1: 1.0\n",
      "Item 10 - Bin 2: -0.0\n",
      "Item 10 - Bin 3: -0.0\n",
      "Item 10 - Bin 4: -0.0\n",
      "Item 11 - Bin 1: 1.0\n",
      "Item 11 - Bin 2: -0.0\n",
      "Item 11 - Bin 3: -0.0\n",
      "Item 11 - Bin 4: -0.0\n",
      "Item 12 - Bin 3: 1.0\n",
      "Item 12 - Bin 4: 0.0\n",
      "Item 13 - Bin 1: 0.0\n",
      "Item 13 - Bin 2: -0.0\n",
      "Item 13 - Bin 3: 1.0\n",
      "Item 13 - Bin 4: 0.0\n",
      "Item 14 - Bin 1: 0.0\n",
      "Item 14 - Bin 2: -0.0\n",
      "Item 14 - Bin 3: 1.0\n",
      "Item 14 - Bin 4: 0.0\n",
      "Item 15 - Bin 1: -0.0\n",
      "Item 15 - Bin 2: 0.0\n",
      "Item 15 - Bin 3: 1.0\n",
      "Item 15 - Bin 4: 0.0\n",
      "Item 16 - Bin 1: 0.0\n",
      "Item 16 - Bin 2: -0.0\n",
      "Item 16 - Bin 3: 1.0\n",
      "Item 16 - Bin 4: -0.0\n"
     ]
    }
   ],
   "source": [
    "I_b = {b:[] for b in B.keys()}\n",
    "\n",
    "# Print the results\n",
    "print('Overall cost of used bins:', model.obj())\n",
    "for i in model.Items:\n",
    "    for b in B_i[i]:\n",
    "        print(f'Item {i} - Bin {b}: {model.p[(i,b)].value}')  \n",
    "        if model.p[(i,b)].value >= 0.99:\n",
    "            I_b[b].append(i)\n",
    "            \n",
    "XY_pos = {}\n",
    "for i in model.Items:\n",
    "    XY_pos[i]={'x':int(model.x[i].value),'y':int(model.y[i].value),\n",
    "               'L':int(I[i]['L']*model.r[i,1,1].value+I[i]['W']*model.r[i,1,2].value),\n",
    "               'W':int(I[i]['L']*model.r[i,2,1].value+I[i]['W']*model.r[i,2,2].value)}\n",
    "            \n",
    "#########################\n",
    "### Plotting solution ###\n",
    "#########################\n",
    "from matplotlib.patches import Rectangle\n",
    "axis_font  = {'fontname':'Arial', 'size':'15'}\n",
    "\n",
    "random.seed(42)\n",
    "\n",
    "plt.close('all')\n",
    "for b in B.keys():\n",
    "    if len(I_b[b])>0:\n",
    "        fig, ax = plt.subplots()\n",
    "        for i in I_b[b]:\n",
    "            ax.add_patch(Rectangle((XY_pos[i]['x'],\n",
    "                                    XY_pos[i]['y']),\n",
    "                                   XY_pos[i]['L'],XY_pos[i]['W'],\n",
    "                 edgecolor = 'green',\n",
    "                 facecolor =  [random.randint(0,255)/255, \n",
    "                               random.randint(0,255)/255, \n",
    "                               random.randint(0,255)/255 ],\n",
    "                 fill=True,\n",
    "                 lw=1))\n",
    "            plt.text((XY_pos[i]['x']+XY_pos[i]['x']+XY_pos[i]['L'])/2,\n",
    "                     (XY_pos[i]['y']+XY_pos[i]['y']+XY_pos[i]['W'])/2,\n",
    "                     str(i),fontsize=15,color='w')\n",
    "        ax.set_xlim(0,B[b]['L'])\n",
    "        ax.set_ylim(0,B[b]['W'])\n",
    "        ax.set_xticks(range(0,B[b]['L']+1))\n",
    "        ax.set_yticks(range(0,B[b]['W']+1))\n",
    "        ax.set_xlabel('Length',**axis_font)\n",
    "        ax.set_ylabel('Width',**axis_font)\n",
    "        ax.grid(True)\n",
    "        plt.show()\n",
    "        fig.savefig('bin_%i.png'%(b), format='png', dpi=400, bbox_inches='tight',\n",
    "                 transparent=True,pad_inches=0.02)    "
   ]
  },
  {
   "cell_type": "code",
   "execution_count": null,
   "id": "747eed14",
   "metadata": {},
   "outputs": [],
   "source": []
  }
 ],
 "metadata": {
  "kernelspec": {
   "display_name": "Python 3 (Spyder)",
   "language": "python3",
   "name": "python3"
  },
  "language_info": {
   "codemirror_mode": {
    "name": "ipython",
    "version": 3
   },
   "file_extension": ".py",
   "mimetype": "text/x-python",
   "name": "python",
   "nbconvert_exporter": "python",
   "pygments_lexer": "ipython3",
   "version": "3.8.5"
  }
 },
 "nbformat": 4,
 "nbformat_minor": 5
}
