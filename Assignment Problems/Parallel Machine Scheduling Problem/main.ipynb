{
 "cells": [
  {
   "cell_type": "markdown",
   "id": "4d822dbf",
   "metadata": {},
   "source": [
    "## Parallel Machine Scheduling Problem"
   ]
  },
  {
   "cell_type": "code",
   "execution_count": 1,
   "id": "88c32209",
   "metadata": {},
   "outputs": [],
   "source": [
    "import numpy as np\n",
    "import pandas as pd\n",
    "import os\n",
    "import networkx as nx\n",
    "import random\n",
    "import matplotlib as mp\n",
    "import matplotlib.pyplot as plt\n",
    "import matplotlib.ticker as mticker\n",
    "from matplotlib.axes._axes import _log as matplotlib_axes_logger\n",
    "matplotlib_axes_logger.setLevel('ERROR')\n",
    "\n",
    "from pyomo.environ import *"
   ]
  },
  {
   "cell_type": "code",
   "execution_count": 2,
   "id": "f5001c3a",
   "metadata": {},
   "outputs": [],
   "source": [
    "############\n",
    "### Sets ###\n",
    "############\n",
    "\n",
    "# Jobs\n",
    "N = {1:{'P':3,'D':5},\n",
    "     2:{'P':3,'D':3},\n",
    "     3:{'P':4,'D':7},\n",
    "     4:{'P':1,'D':4},\n",
    "     5:{'P':6,'D':6},\n",
    "     6:{'P':3,'D':10},}\n",
    "\n",
    "# Machines\n",
    "M = {1:{'Name':'M1'},\n",
    "     2:{'Name':'M2'},\n",
    "     3:{'Name':'M3'}}\n",
    "\n",
    "# Hierarchy between jobs: (i,j) means\n",
    "# job i must be completed before j can start\n",
    "# regardless of which machines they are\n",
    "# assigned to\n",
    "N_prec = [(1,3),(2,4),(5,6)]"
   ]
  },
  {
   "cell_type": "code",
   "execution_count": 3,
   "id": "b49faeb3",
   "metadata": {},
   "outputs": [],
   "source": [
    "model = ConcreteModel()\n",
    "\n",
    "# Define sets\n",
    "model.Jobs     = Set(initialize=N.keys())\n",
    "model.Machines = Set(initialize=M.keys())\n",
    "model.C_max    = Set(initialize=[0])\n",
    "\n",
    "# Define parameters\n",
    "model.P = Param(model.Jobs, initialize={k:v['P'] \n",
    "       for k,v in N.items()}, within=Any)\n",
    "model.D = Param(model.Jobs, initialize={k:v['D'] \n",
    "       for k,v in N.items()}, within=Any)\n",
    "\n",
    "# Define decision variables\n",
    "model.t     = Var(model.Jobs, within=NonNegativeReals)\n",
    "model.c     = Var(model.Jobs, within=NonNegativeReals)\n",
    "model.c_max = Var(model.C_max, within=NonNegativeReals)\n",
    "model.y     = Var(model.Jobs,model.Jobs, within=Binary)\n",
    "model.x     = Var(model.Jobs,model.Machines, within=Binary)"
   ]
  },
  {
   "cell_type": "code",
   "execution_count": 4,
   "id": "f032987e",
   "metadata": {},
   "outputs": [],
   "source": [
    "# Define objective function\n",
    "model.obj = Objective(expr=sum(model.c_max[c] for c in model.c_max), sense=minimize)"
   ]
  },
  {
   "cell_type": "code",
   "execution_count": 5,
   "id": "7179df0d",
   "metadata": {},
   "outputs": [],
   "source": [
    "# Define constraints\n",
    "model.job_assigned_once = ConstraintList()\n",
    "for i in model.Jobs:\n",
    "    model.job_assigned_once.add(expr=sum(model.x[i,m] \n",
    "                                         for m in model.Machines)==1)\n",
    "    \n",
    "model.completion_time = ConstraintList()\n",
    "for i in model.Jobs:\n",
    "    model.completion_time.add(model.c[i] >= model.t[i]+model.P[i])\n",
    "    \n",
    "model.max_completion_time = ConstraintList()\n",
    "for i in model.Jobs:\n",
    "    model.max_completion_time.add(model.c_max[0] >= model.c[i])\n",
    "\n",
    "bigM = 200    \n",
    "model.time_precedence_1 = ConstraintList()\n",
    "for i in model.Jobs:\n",
    "    for j in model.Jobs:\n",
    "        if j != i:\n",
    "            if (i,j) not in N_prec:\n",
    "                for m in model.Machines:\n",
    "                    model.time_precedence_1.add(model.t[i]+model.P[i]-model.t[j] \n",
    "                                          + bigM*model.y[i,j]+bigM*model.x[i,m]+ \n",
    "                                          bigM*model.x[j,m] <= 3*bigM)\n",
    "model.time_precedence_2 = ConstraintList()\n",
    "for i in model.Jobs:\n",
    "    for j in model.Jobs:\n",
    "        if j !=i:\n",
    "            if (i,j) not in N_prec:\n",
    "                for m in model.Machines:\n",
    "                    model.time_precedence_2.add(model.t[j]+model.P[j]-model.t[i]\n",
    "                                          - bigM*model.y[i,j]+bigM*model.x[i,m]+\n",
    "                                          bigM*model.x[j,m] <= 2*bigM)\n",
    "\n",
    "model.time_precedence_given = ConstraintList()\n",
    "for i in model.Jobs:\n",
    "    for j in model.Jobs:\n",
    "        if j != i:\n",
    "            if (i,j) in N_prec:\n",
    "                for m in model.Machines:\n",
    "                    model.time_precedence_given.add(model.t[i]+model.P[i]<=model.t[j])\n",
    "\n",
    "model.upper_bound_t = ConstraintList()\n",
    "for i in model.Jobs:\n",
    "    model.upper_bound_t.add(model.t[i]<=model.D[i]-model.P[i])\n",
    "    \n",
    "model.upper_bound_c = ConstraintList()\n",
    "for i in model.Jobs:\n",
    "    model.upper_bound_c.add(model.c[i]<=model.D[i])"
   ]
  },
  {
   "cell_type": "code",
   "execution_count": 6,
   "id": "190146c8",
   "metadata": {},
   "outputs": [
    {
     "data": {
      "text/plain": [
       "{'Problem': [{'Name': 'x68', 'Lower bound': 9.0, 'Upper bound': 9.0, 'Number of objectives': 1, 'Number of constraints': 202, 'Number of variables': 59, 'Number of binary variables': 45, 'Number of integer variables': 45, 'Number of continuous variables': 14, 'Number of nonzeros': 883, 'Sense': 'minimize'}], 'Solver': [{'Status': 'ok', 'Return code': '0', 'Message': 'Model was solved to optimality (subject to tolerances), and an optimal solution is available.', 'Termination condition': 'optimal', 'Termination message': 'Model was solved to optimality (subject to tolerances), and an optimal solution is available.', 'Wall time': '0.00791168212891', 'Error rc': 0, 'Time': 1.4614183902740479}], 'Solution': [OrderedDict([('number of solutions', 0), ('number of solutions displayed', 0)])]}"
      ]
     },
     "execution_count": 6,
     "metadata": {},
     "output_type": "execute_result"
    }
   ],
   "source": [
    "model.write('PMSP.lp', io_options={'symbolic_solver_labels': True})\n",
    "\n",
    "# Solve the problem\n",
    "solver = SolverFactory('gurobi')\n",
    "solver.solve(model)  "
   ]
  },
  {
   "cell_type": "code",
   "execution_count": 7,
   "id": "1cd3ddd7",
   "metadata": {},
   "outputs": [
    {
     "name": "stdout",
     "output_type": "stream",
     "text": [
      "\n",
      "%%%%%%%%%%%%%%%%%%%%%%%%%%%%%%%%%%%%%%%%\n",
      "Overall assignment cost: 9.0\n",
      "%%%%%%%%%%%%%%%%%%%%%%%%%%%%%%%%%%%%%%%%\n",
      "\n",
      "%%%%%%%%%%%%%%%%%%%%%%%%%%%%%%%%%%%%%%%%\n",
      "Assignment of jobs to machines:\n",
      "%%%%%%%%%%%%%%%%%%%%%%%%%%%%%%%%%%%%%%%%\n",
      "Job 1 - Machine 2\n",
      "Job 2 - Machine 3\n",
      "Job 3 - Machine 2\n",
      "Job 4 - Machine 3\n",
      "Job 5 - Machine 1\n",
      "Job 6 - Machine 3\n",
      "\n",
      "%%%%%%%%%%%%%%%%%%%%%%%%%%%%%%%%%%%%%%%%\n",
      "Start of processing time of jobs:\n",
      "%%%%%%%%%%%%%%%%%%%%%%%%%%%%%%%%%%%%%%%%\n",
      "Job 1: 0.0\n",
      "Job 2: 0.0\n",
      "Job 3: 3.0\n",
      "Job 4: 3.0\n",
      "Job 5: 0.0\n",
      "Job 6: 6.0\n"
     ]
    }
   ],
   "source": [
    "# Print the results\n",
    "print('')\n",
    "print('%%%%%%%%%%%%%%%%%%%%%%%%%%%%%%%%%%%%%%%%')\n",
    "print('Overall assignment cost:', model.obj())\n",
    "print('%%%%%%%%%%%%%%%%%%%%%%%%%%%%%%%%%%%%%%%%')\n",
    "print('')\n",
    "\n",
    "print('%%%%%%%%%%%%%%%%%%%%%%%%%%%%%%%%%%%%%%%%')\n",
    "print('Assignment of jobs to machines:')\n",
    "print('%%%%%%%%%%%%%%%%%%%%%%%%%%%%%%%%%%%%%%%%')\n",
    "N_m = {k:[] for k in M.keys()}\n",
    "for i in model.Jobs:\n",
    "    for m in model.Machines:\n",
    "        if model.x[(i,m)].value >= 0.99:\n",
    "            print(f'Job {i} - Machine {m}')\n",
    "            N_m[m].append(i)\n",
    "\n",
    "print('')\n",
    "\n",
    "print('%%%%%%%%%%%%%%%%%%%%%%%%%%%%%%%%%%%%%%%%')\n",
    "print('Start of processing time of jobs:')\n",
    "print('%%%%%%%%%%%%%%%%%%%%%%%%%%%%%%%%%%%%%%%%')\n",
    "T_i = {}\n",
    "for i in model.Jobs:\n",
    "    print(f'Job {i}: {model.t[i].value}')\n",
    "    T_i[i] = model.t[i].value"
   ]
  },
  {
   "cell_type": "code",
   "execution_count": 8,
   "id": "9f3269c4",
   "metadata": {},
   "outputs": [],
   "source": [
    "#########################\n",
    "### Plotting solution ###\n",
    "#########################\n",
    "from matplotlib.patches import Rectangle\n",
    "axis_font  = {'fontname':'Arial', 'size':'15'}\n",
    "\n",
    "random.seed(42)\n",
    "H = 1\n",
    "\n",
    "plt.close('all')\n",
    "fig, ax = plt.subplots()\n",
    "for m in M.keys():\n",
    "    if len(N_m[m])>0:\n",
    "        \n",
    "        for i in N_m[m]:\n",
    "            ax.add_patch(Rectangle((T_i[i],2*H*(m-1)),N[i]['P'],H,\n",
    "                 edgecolor = 'green',\n",
    "                 facecolor =  [random.randint(0,255)/255, \n",
    "                               random.randint(0,255)/255, \n",
    "                               random.randint(0,255)/255 ],\n",
    "                 fill=True,\n",
    "                 lw=1))\n",
    "            plt.text((2*T_i[i]+N[i]['P'])/2,\n",
    "                     (2*(m-1)+2*(m-1)+H)/2,\n",
    "                     str(i),fontsize=25,color='w')\n",
    "           \n",
    "ax.set_xlim(0,model.obj())\n",
    "ax.set_ylim(0,2*max(M.keys()))\n",
    "\n",
    "y_ticks_pos    = [(2*H*(m-1)+2*H*(m-1)+H)/2 for m in M.keys()]\n",
    "y_ticks_labels = [str(m) for m in M.keys()]\n",
    "\n",
    "ax.set_yticks(y_ticks_pos,labels=y_ticks_labels)\n",
    "ax.set_xlabel('Time (h)',**axis_font)\n",
    "ax.set_ylabel('Machine',**axis_font)\n",
    "ax.grid(True)\n",
    "plt.show()\n",
    "fig.savefig('sol_PMSP.png', format='png', dpi=1000, bbox_inches='tight',\n",
    "         transparent=True,pad_inches=0.02) "
   ]
  },
  {
   "cell_type": "code",
   "execution_count": null,
   "id": "eb719730",
   "metadata": {},
   "outputs": [],
   "source": []
  }
 ],
 "metadata": {
  "kernelspec": {
   "display_name": "Python 3 (Spyder)",
   "language": "python3",
   "name": "python3"
  },
  "language_info": {
   "codemirror_mode": {
    "name": "ipython",
    "version": 3
   },
   "file_extension": ".py",
   "mimetype": "text/x-python",
   "name": "python",
   "nbconvert_exporter": "python",
   "pygments_lexer": "ipython3",
   "version": "3.8.5"
  }
 },
 "nbformat": 4,
 "nbformat_minor": 5
}
