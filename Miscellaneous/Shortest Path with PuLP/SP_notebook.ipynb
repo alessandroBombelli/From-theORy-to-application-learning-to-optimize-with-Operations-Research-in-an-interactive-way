{
 "cells": [
  {
   "cell_type": "code",
   "execution_count": 17,
   "id": "ec962cfd",
   "metadata": {},
   "outputs": [],
   "source": [
    "import numpy as np\n",
    "import os\n",
    "import pandas as pd\n",
    "import time\n",
    "import random\n",
    "import pickle\n",
    "import matplotlib.pyplot as plt\n",
    "from os import listdir\n",
    "from os.path import isfile, join\n",
    "import PIL\n",
    "# Import PuLP modeler functions\n",
    "from pulp import *"
   ]
  },
  {
   "cell_type": "code",
   "execution_count": 18,
   "id": "9c0ba808",
   "metadata": {},
   "outputs": [],
   "source": [
    "cwd = os.getcwd()\n",
    "plt.close('all')\n",
    "\n",
    "# Set random seed\n",
    "random.seed(42)\n",
    "\n"
   ]
  },
  {
   "cell_type": "code",
   "execution_count": 19,
   "id": "b08c2e9e",
   "metadata": {},
   "outputs": [],
   "source": [
    "df = pd.read_excel(os.path.join(cwd,'Knight_network.xlsx'), keep_default_na=False)"
   ]
  },
  {
   "cell_type": "code",
   "execution_count": 20,
   "id": "55c7fe6c",
   "metadata": {},
   "outputs": [
    {
     "data": {
      "text/html": [
       "<div>\n",
       "<style scoped>\n",
       "    .dataframe tbody tr th:only-of-type {\n",
       "        vertical-align: middle;\n",
       "    }\n",
       "\n",
       "    .dataframe tbody tr th {\n",
       "        vertical-align: top;\n",
       "    }\n",
       "\n",
       "    .dataframe thead th {\n",
       "        text-align: right;\n",
       "    }\n",
       "</style>\n",
       "<table border=\"1\" class=\"dataframe\">\n",
       "  <thead>\n",
       "    <tr style=\"text-align: right;\">\n",
       "      <th></th>\n",
       "      <th>Origin</th>\n",
       "      <th>Destination</th>\n",
       "      <th>Name</th>\n",
       "      <th>Cost</th>\n",
       "    </tr>\n",
       "  </thead>\n",
       "  <tbody>\n",
       "    <tr>\n",
       "      <th>0</th>\n",
       "      <td>A</td>\n",
       "      <td>B</td>\n",
       "      <td>Innocuous bridge over water</td>\n",
       "      <td>3</td>\n",
       "    </tr>\n",
       "    <tr>\n",
       "      <th>1</th>\n",
       "      <td>A</td>\n",
       "      <td>C</td>\n",
       "      <td>Cat warrior</td>\n",
       "      <td>8</td>\n",
       "    </tr>\n",
       "    <tr>\n",
       "      <th>2</th>\n",
       "      <td>A</td>\n",
       "      <td>D</td>\n",
       "      <td>Angry ogre</td>\n",
       "      <td>12</td>\n",
       "    </tr>\n",
       "    <tr>\n",
       "      <th>3</th>\n",
       "      <td>B</td>\n",
       "      <td>E</td>\n",
       "      <td>Stereotypical witch</td>\n",
       "      <td>10</td>\n",
       "    </tr>\n",
       "    <tr>\n",
       "      <th>4</th>\n",
       "      <td>B</td>\n",
       "      <td>F</td>\n",
       "      <td>Spooky ghost</td>\n",
       "      <td>9</td>\n",
       "    </tr>\n",
       "  </tbody>\n",
       "</table>\n",
       "</div>"
      ],
      "text/plain": [
       "  Origin Destination                         Name  Cost\n",
       "0      A           B  Innocuous bridge over water     3\n",
       "1      A           C                  Cat warrior     8\n",
       "2      A           D                   Angry ogre    12\n",
       "3      B           E          Stereotypical witch    10\n",
       "4      B           F                 Spooky ghost     9"
      ]
     },
     "execution_count": 20,
     "metadata": {},
     "output_type": "execute_result"
    }
   ],
   "source": [
    "df.head()"
   ]
  },
  {
   "cell_type": "code",
   "execution_count": 21,
   "id": "3b04ccce",
   "metadata": {},
   "outputs": [],
   "source": [
    "# Define unique set of nodes\n",
    "Nodes = sorted(list(set(df.Origin) | set(df.Destination)))\n",
    "N     = {Nodes[idx]:idx for idx,n in enumerate(Nodes)}\n",
    "\n",
    "# Define edges (we have one distinct edge per row of the input dataframe)\n",
    "E = {}\n",
    "for index, row in df.iterrows():\n",
    "    E[row.Origin,row.Destination] = [row.Origin,row.Destination,row.Name,row.Cost]\n",
    "    \n",
    "# Define sets of ingoing/outgoing edges per node\n",
    "\n",
    "N_in  = {node:[E[key][0] for key in E.keys() if E[key][1]==node] for node in N.keys()}\n",
    "N_out = {node:[E[key][1] for key in E.keys() if E[key][0]==node] for node in N.keys()}"
   ]
  },
  {
   "cell_type": "code",
   "execution_count": 22,
   "id": "cc32504c",
   "metadata": {},
   "outputs": [
    {
     "data": {
      "text/plain": [
       "{'A': [],\n",
       " 'B': ['A'],\n",
       " 'C': ['A'],\n",
       " 'D': ['A', 'C'],\n",
       " 'E': ['B'],\n",
       " 'F': ['B', 'C', 'D', 'E'],\n",
       " 'G': ['E'],\n",
       " 'H': ['E', 'F', 'I'],\n",
       " 'I': ['D', 'F'],\n",
       " 'J': ['D'],\n",
       " 'K': ['E', 'G', 'H'],\n",
       " 'L': ['I', 'J'],\n",
       " 'M': ['H', 'K', 'L']}"
      ]
     },
     "execution_count": 22,
     "metadata": {},
     "output_type": "execute_result"
    }
   ],
   "source": [
    "N_in"
   ]
  },
  {
   "cell_type": "code",
   "execution_count": 23,
   "id": "1fde821d",
   "metadata": {},
   "outputs": [],
   "source": [
    "# Define source and sink nodes\n",
    "source = 'A'\n",
    "sink   = 'M'\n",
    "\n",
    "# Create the 'prob' variable to contain the problem data\n",
    "prob = LpProblem(\"Shortest_path\", LpMinimize)"
   ]
  },
  {
   "cell_type": "code",
   "execution_count": 24,
   "id": "b8339029",
   "metadata": {},
   "outputs": [],
   "source": [
    "x_ij_vars = LpVariable.dicts(\"x\",[(E[key][0],E[key][1]) for key in E.keys()],0,1)"
   ]
  },
  {
   "cell_type": "code",
   "execution_count": 25,
   "id": "a4b33665",
   "metadata": {},
   "outputs": [
    {
     "data": {
      "text/plain": [
       "{('A', 'B'): x_('A',_'B'),\n",
       " ('A', 'C'): x_('A',_'C'),\n",
       " ('A', 'D'): x_('A',_'D'),\n",
       " ('B', 'E'): x_('B',_'E'),\n",
       " ('B', 'F'): x_('B',_'F'),\n",
       " ('C', 'D'): x_('C',_'D'),\n",
       " ('C', 'F'): x_('C',_'F'),\n",
       " ('D', 'F'): x_('D',_'F'),\n",
       " ('D', 'I'): x_('D',_'I'),\n",
       " ('D', 'J'): x_('D',_'J'),\n",
       " ('E', 'F'): x_('E',_'F'),\n",
       " ('E', 'G'): x_('E',_'G'),\n",
       " ('E', 'H'): x_('E',_'H'),\n",
       " ('E', 'K'): x_('E',_'K'),\n",
       " ('F', 'H'): x_('F',_'H'),\n",
       " ('F', 'I'): x_('F',_'I'),\n",
       " ('G', 'K'): x_('G',_'K'),\n",
       " ('H', 'K'): x_('H',_'K'),\n",
       " ('H', 'M'): x_('H',_'M'),\n",
       " ('I', 'H'): x_('I',_'H'),\n",
       " ('I', 'L'): x_('I',_'L'),\n",
       " ('J', 'L'): x_('J',_'L'),\n",
       " ('K', 'M'): x_('K',_'M'),\n",
       " ('L', 'M'): x_('L',_'M')}"
      ]
     },
     "execution_count": 25,
     "metadata": {},
     "output_type": "execute_result"
    }
   ],
   "source": [
    "x_ij_vars"
   ]
  },
  {
   "cell_type": "code",
   "execution_count": 26,
   "id": "10778561",
   "metadata": {},
   "outputs": [
    {
     "data": {
      "text/plain": [
       "{('A', 'B'): ['A', 'B', 'Innocuous bridge over water', 3],\n",
       " ('A', 'C'): ['A', 'C', 'Cat warrior', 8],\n",
       " ('A', 'D'): ['A', 'D', 'Angry ogre', 12],\n",
       " ('B', 'E'): ['B', 'E', 'Stereotypical witch', 10],\n",
       " ('B', 'F'): ['B', 'F', 'Spooky ghost', 9],\n",
       " ('C', 'D'): ['C', 'D', 'Friendly wizard', 1],\n",
       " ('C', 'F'): ['C', 'F', 'Dangerous bridge', 5],\n",
       " ('D', 'F'): ['D', 'F', 'Stroll in the woods', 3],\n",
       " ('D', 'I'): ['D', 'I', 'Infested swamp', 15],\n",
       " ('D', 'J'): ['D', 'J', 'Regular bridge', 2],\n",
       " ('E', 'F'): ['E', 'F', 'Friend of the angry ogre', 12],\n",
       " ('E', 'G'): ['E', 'G', 'Bulky knight', 9],\n",
       " ('E', 'H'): ['E', 'H', 'Calm forest', 4],\n",
       " ('E', 'K'): ['E', 'K', 'Three-headed dragon', 11],\n",
       " ('F', 'H'): ['F', 'H', 'Tiny dragon', 6],\n",
       " ('F', 'I'): ['F', 'I', 'Merlin-type wizard', 1],\n",
       " ('G', 'K'): ['G', 'K', 'Mysterious cave', 7],\n",
       " ('H', 'K'): ['H', 'K', 'Dark archeress', 8],\n",
       " ('H', 'M'): ['H', 'M', 'Chained ghost', 13],\n",
       " ('I', 'H'): ['I', 'H', 'Path in the woods', 4],\n",
       " ('I', 'L'): ['I', 'L', 'You shall not pass-type of wizard', 10],\n",
       " ('J', 'L'): ['J', 'L', 'Cozy tavern', 5],\n",
       " ('K', 'M'): ['K', 'M', 'Pink unicorn', 3],\n",
       " ('L', 'M'): ['L', 'M', 'Tired ogre', 6]}"
      ]
     },
     "execution_count": 26,
     "metadata": {},
     "output_type": "execute_result"
    }
   ],
   "source": [
    "E"
   ]
  },
  {
   "cell_type": "code",
   "execution_count": 27,
   "id": "ee265c40",
   "metadata": {},
   "outputs": [],
   "source": [
    "# The objective function is added to 'prob' first\n",
    "prob += (\n",
    "    lpSum([E[key][3] * x_ij_vars[E[key][0],E[key][1]] for idx,key in enumerate(E.keys())]),\n",
    "    \"Total_distance\",\n",
    ")"
   ]
  },
  {
   "cell_type": "code",
   "execution_count": 28,
   "id": "5bda77e9",
   "metadata": {},
   "outputs": [
    {
     "name": "stdout",
     "output_type": "stream",
     "text": [
      "Creating constraints\n"
     ]
    }
   ],
   "source": [
    "print('Creating constraints')\n",
    "\n",
    "for n in N.keys():\n",
    "    if n == source:\n",
    "        prob += (\n",
    "            lpSum(x_ij_vars[(n,n_out)] for n_out in N_out[n]) -\n",
    "            lpSum(x_ij_vars[(n_in,n)] for n_in in N_in[n]) == 1,\n",
    "            \"Source\",)\n",
    "    elif n == sink:\n",
    "        prob += (\n",
    "            lpSum(x_ij_vars[(n,n_out)] for n_out in N_out[n]) -\n",
    "            lpSum(x_ij_vars[(n_in,n)] for n_in in N_in[n]) == -1,\n",
    "            \"Sink\",)\n",
    "    else:\n",
    "        prob += (\n",
    "            lpSum(x_ij_vars[(n,n_out)] for n_out in N_out[n]) -\n",
    "            lpSum(x_ij_vars[(n_in,n)] for n_in in N_in[n]) == 0,\n",
    "            \"node_%s\"%(n),)"
   ]
  },
  {
   "cell_type": "code",
   "execution_count": 29,
   "id": "bcf85cc6",
   "metadata": {},
   "outputs": [
    {
     "data": {
      "text/plain": [
       "1"
      ]
     },
     "execution_count": 29,
     "metadata": {},
     "output_type": "execute_result"
    }
   ],
   "source": [
    "# The problem data is written to an .lp file\n",
    "prob.writeLP(\"SP.lp\")\n",
    "\n",
    "# The problem is solved using PuLP's choice of Solver\n",
    "solver = getSolver('GLPK_CMD')\n",
    "prob.solve()"
   ]
  },
  {
   "cell_type": "code",
   "execution_count": 30,
   "id": "9924a501",
   "metadata": {},
   "outputs": [
    {
     "name": "stdout",
     "output_type": "stream",
     "text": [
      "Status: Optimal\n",
      "x_('A',_'B') = 0.0\n",
      "x_('A',_'C') = 1.0\n",
      "x_('A',_'D') = 0.0\n",
      "x_('B',_'E') = 0.0\n",
      "x_('B',_'F') = -0.0\n",
      "x_('C',_'D') = 1.0\n",
      "x_('C',_'F') = 0.0\n",
      "x_('D',_'F') = 0.0\n",
      "x_('D',_'I') = 0.0\n",
      "x_('D',_'J') = 1.0\n",
      "x_('E',_'F') = 0.0\n",
      "x_('E',_'G') = 0.0\n",
      "x_('E',_'H') = 0.0\n",
      "x_('E',_'K') = 0.0\n",
      "x_('F',_'H') = 0.0\n",
      "x_('F',_'I') = 0.0\n",
      "x_('G',_'K') = 0.0\n",
      "x_('H',_'K') = 0.0\n",
      "x_('H',_'M') = 0.0\n",
      "x_('I',_'H') = 0.0\n",
      "x_('I',_'L') = 0.0\n",
      "x_('J',_'L') = 1.0\n",
      "x_('K',_'M') = -0.0\n",
      "x_('L',_'M') = 1.0\n",
      "Length path =  22.0\n"
     ]
    }
   ],
   "source": [
    "# The status of the solution is printed to the screen\n",
    "print(\"Status:\", LpStatus[prob.status])\n",
    "\n",
    "# Each of the variables is printed with it's resolved optimum value\n",
    "for v in prob.variables():\n",
    "    print(v.name, \"=\", v.varValue)\n",
    "    \n",
    "# The optimised objective function value is printed to the screen\n",
    "print(\"Length path = \", value(prob.objective))"
   ]
  },
  {
   "cell_type": "code",
   "execution_count": 31,
   "id": "370b2701",
   "metadata": {},
   "outputs": [
    {
     "name": "stdout",
     "output_type": "stream",
     "text": [
      "Length path =  22.0\n"
     ]
    }
   ],
   "source": [
    "# The optimised objective function value is printed to the screen\n",
    "print(\"Length path = \", value(prob.objective))"
   ]
  }
 ],
 "metadata": {
  "kernelspec": {
   "display_name": "Python 3 (Spyder)",
   "language": "python3",
   "name": "python3"
  },
  "language_info": {
   "codemirror_mode": {
    "name": "ipython",
    "version": 3
   },
   "file_extension": ".py",
   "mimetype": "text/x-python",
   "name": "python",
   "nbconvert_exporter": "python",
   "pygments_lexer": "ipython3",
   "version": "3.8.5"
  }
 },
 "nbformat": 4,
 "nbformat_minor": 5
}
